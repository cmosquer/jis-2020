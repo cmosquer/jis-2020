{
 "cells": [
  {
   "cell_type": "markdown",
   "metadata": {
    "id": "view-in-github"
   },
   "source": [
    "<a href=\"https://colab.research.google.com/github/joaquinmenendez/curso_phyton/blob/master/Propuesta_curso.ipynb\" target=\"_parent\"><img src=\"https://colab.research.google.com/assets/colab-badge.svg\" alt=\"Open In Colab\"/></a>"
   ]
  },
  {
   "cell_type": "markdown",
   "metadata": {
    "id": "OY4hYTN96B0t"
   },
   "source": [
    "#  Introducción a Python para ciencia de datos e IA\n",
    "Docentes a cargo: Joaquín Menéndez y Fernando Binder\n",
    "\n",
    "## Temas\n",
    "1. Python. \n",
    "    - ¿Qué es?\n",
    "    - ¿Cómo instalarlo?\n",
    "    - Notebooks y IDE (Integrated Development Enviroment)\n",
    "2. Tipos de datos y estructuras de datos.\n",
    "    - **int**, **float**, **string**, **bool**\n",
    "    - **list**, **tuple**, **dictionary** , **set**\n",
    "3. Condicionales y Bucles (o loops)\n",
    "    - **if**\n",
    "    - **for** y **where**\n",
    "4. Funciones \n",
    "    - Importar librerias\n",
    "    - Instalar librerias\n",
    "    - Entornos virtuales o `Virtualenv`\n",
    "5. Manipulación de Archivos en Python\n",
    "    - `os`, `shutil` y `magic methods`\n",
    "6. Programación Orientada a Objeto (OOP)\n",
    "    - Definir una clase\n",
    "    - Metodos de clase\n",
    "    - Herencia de clase"
   ]
  },
  {
   "cell_type": "markdown",
   "metadata": {
    "id": "IyLi10hw4Me1"
   },
   "source": [
    "## Links útiles\n",
    "- [Anaconda](https://www.anaconda.com/products/individual)\n",
    "- [Google Colab](https://colab.research.google.com/)\n",
    "- [2 meses grátis de Datacamp](https://docs.microsoft.com/en-us/visualstudio/subscriptions/vs-datacamp)\n",
    "- [StackOverflow](https://stackoverflow.com/)\n",
    "- [Python (documentación)](https://python-reference.readthedocs.io/en/latest/index.html#)\n",
    "- [Slicing](https://python-reference.readthedocs.io/en/latest/docs/brackets/slicing.html)\n",
    "\n"
   ]
  },
  {
   "cell_type": "markdown",
   "metadata": {
    "id": "VZjiJwOeK2Ut"
   },
   "source": [
    "# 1. Python"
   ]
  },
  {
   "cell_type": "markdown",
   "metadata": {
    "id": "F7K02jyGLHNf"
   },
   "source": [
    "**Primero que nada...¿Qué es Python?**\n",
    "\n",
    "Python es un lenguaje de programación interpretado de tipado dinámico cuya filosofía hace hincapié en una sintaxis que favorezca un código legible. Se trata de un lenguaje de programación multiparadigma y disponible en varias plataformas.\n",
    "\n",
    "En criollo, Python es:\n",
    "\n",
    "- Interpretado: Se ejecuta sin necesidad de ser procesado por un compilador y se detectan los errores en tiempo de ejecución.\n",
    "- Multiparadigma: Soporta diferentes tipos de programación, Ej: funcional, imperativa y orientada a objetos. En este curso veremos principalmente las dos primeras, pero siempre estaremos interactuando con objetos. Un poco de esto más adelante.\n",
    "- Tipado dinámico: Las variables se comprueban en tiempo de ejecución. No es necesario definir qué tipo de datos vana contener nuestras variables. Si alguna vez programas en C, C++ o Java (te compadezco) tendras experiencia con esto.\n",
    "- Multiplataforma: disponible para plataformas de Windows, Linux o MAC.\n",
    "- Gratuito: Otros lenguajes como MATLAB requieren licencias pagas.\n",
    "\n",
    "\n",
    "**¿Por qué Python?**\n",
    "- Elegante, sencillo, fácil de aprender\n",
    "- Una gran comunidad, abundante documentacion y ejemplos\n",
    "- La mayoria del estado del arte en Machine Learning, Deep Learning y Data Science es en este lenguaje"
   ]
  },
  {
   "cell_type": "markdown",
   "metadata": {
    "id": "1MmLtG_ppM3o"
   },
   "source": [
    "**¿Cómo empiezo a usarlo?**\n",
    "\n",
    "Hay muchas formas en que uno puede programar. Algunas personas disfrutan haciendo todo desde la consola, usando algun software como [EMACS](https://www.tldp.org/HOWTO/Emacs-Beginner-HOWTO-2.html).<br>\n",
    "Otras personas disfrutan programando exclusivamente en notebooks como la que estas viendo ahora.<br>\n",
    "Otros disfrutan usando un IDE (Integrated development environment). <br>\n",
    "Si no tenes experiencia prevía recomendamos empezar con esta última opción.<br>"
   ]
  },
  {
   "cell_type": "markdown",
   "metadata": {
    "id": "gD__fvLINdFu"
   },
   "source": [
    "**Ejemplos de IDE :**\n",
    "- Pycharm\n",
    "![img](https://user-images.githubusercontent.com/43391630/94975828-eb316380-04e0-11eb-83da-dd757e79f6c9.png)"
   ]
  },
  {
   "cell_type": "markdown",
   "metadata": {
    "id": "zDB7NQCcLGY8"
   },
   "source": [
    "- Spyder\n",
    "![img](https://user-images.githubusercontent.com/43391630/94975800-cd63fe80-04e0-11eb-9868-12a9acbe609a.png)"
   ]
  },
  {
   "cell_type": "markdown",
   "metadata": {
    "id": "OQgow0rdpM3p"
   },
   "source": [
    "- Jupyter Notebook \n",
    "\n",
    "Esto es una _notebook_ del entorno Jupyter (en este caso usamos Google Colaboratory, una versión online gratuita).\n",
    "\n",
    "Cada una de estas _celdas_ funciona como un bloque donde podemos escribir texto plano, Latex, HTML, además de ejecutar código Python, R, bash y otros. "
   ]
  },
  {
   "cell_type": "markdown",
   "metadata": {
    "id": "mGzUi8vipM3q"
   },
   "source": [
    "$$ \\text{Esto esta escrito en } \\LaTeX{}$$\n",
    "$$\\sum{x^2 + \\sqrt{\\dfrac{1}{9}}} $$"
   ]
  },
  {
   "cell_type": "code",
   "execution_count": null,
   "metadata": {
    "id": "iBvxlF_EpM3q"
   },
   "outputs": [],
   "source": [
    "print('Esta celda ejecuta Python!!!')"
   ]
  },
  {
   "cell_type": "code",
   "execution_count": null,
   "metadata": {
    "id": "5jXEeU2bpM3t"
   },
   "outputs": [],
   "source": [
    "#Esto es un comentario. Python no reconoce nada de lo que aparece a la derecha de un #"
   ]
  },
  {
   "cell_type": "markdown",
   "metadata": {
    "id": "yFjnT088pM3w"
   },
   "source": [
    "Jupyter Notebooks es una interfaz incluida en la instalación de Python ampliamente usada para Data Science. Si queres descargar todo lo necesario para empezar a usar Python y demas podes sencillamente instalar el gestionador de enviroments [Anaconda](https://www.anaconda.com/products/individual\"/) el cual se encarga de instalar todo por vos. "
   ]
  },
  {
   "cell_type": "markdown",
   "metadata": {
    "id": "bdMMEBheOBBv"
   },
   "source": [
    "# 2. Tipos de datos o variables\n"
   ]
  },
  {
   "cell_type": "markdown",
   "metadata": {
    "id": "X---XJI5u1gK"
   },
   "source": [
    "### Tipos mas comunes de variables"
   ]
  },
  {
   "cell_type": "code",
   "execution_count": null,
   "metadata": {
    "id": "mB0WqNdOLXfP"
   },
   "outputs": [],
   "source": [
    "# String\n",
    "var1 = 'Esto es una string'\n",
    "\n",
    "# Numeric\n",
    "## Integer\n",
    "var2 = 5\n",
    "## Float (o numerico de precision)\n",
    "var3 = 5.1\n",
    "\n",
    "## Boolean (o valores lógicos)\n",
    "var4 = True"
   ]
  },
  {
   "cell_type": "code",
   "execution_count": null,
   "metadata": {
    "colab": {
     "base_uri": "https://localhost:8080/",
     "height": 34
    },
    "id": "4OpKpzX9Lugg",
    "outputId": "d73d995c-0f57-40ae-ea7c-20d6ca17cbbb"
   },
   "outputs": [],
   "source": [
    "var1, var2, var3, var4"
   ]
  },
  {
   "cell_type": "markdown",
   "metadata": {
    "id": "MuWZdLrBL05_"
   },
   "source": [
    "Es importante conocer los types de nuestras variables porque todo es un Objeto o Clase en python. Este concepto es un poco mas avanzado, y no vamos a indagar mucho en este curso, pero la idea principal es que objetos diferentes van a poder hacer cosas distintas. Y dado que cada tipo de variable es una `clase` diferente de objeto van a tener diferentes propiedades o `metodos`. Las palabras que aparecen `asi` son conceptos técnicos, o a veces referirán a nombres de variables.\n",
    "\n",
    "Si queres saber un poco más acerca de qué es esto de ['Todo es un Objeto'](https://es.wikibooks.org/wiki/Python/Su_primer_programa_en_Python/%C2%BFQu%C3%A9_es_un_objeto%3F#:~:text=Todo%20en%20Python%20es%20un,todo%20tiene%20atributos%20y%20m%C3%A9todos.&text=Los%20diferentes%20lenguajes%20de%20programaci%C3%B3n,los%20objetos%20pueden%20tener%20subclases.)"
   ]
  },
  {
   "cell_type": "code",
   "execution_count": null,
   "metadata": {
    "colab": {
     "base_uri": "https://localhost:8080/",
     "height": 35
    },
    "id": "2stqQP1zLv5Y",
    "outputId": "7c7b19ba-bf81-43fc-b8e8-60525e6ec3b2"
   },
   "outputs": [],
   "source": [
    "# Ej: Métodos para nuestros distintos tipos de variables \n",
    "var1.upper()"
   ]
  },
  {
   "cell_type": "code",
   "execution_count": null,
   "metadata": {
    "colab": {
     "base_uri": "https://localhost:8080/",
     "height": 163
    },
    "id": "pbFOmFQoMONX",
    "outputId": "9490bf26-3bdb-44da-8305-6a26d9e510f5"
   },
   "outputs": [],
   "source": [
    "# Qué pasa si queremos hacer lo mismo con un Integer???\n",
    "var2.upper() "
   ]
  },
  {
   "cell_type": "code",
   "execution_count": null,
   "metadata": {
    "colab": {
     "base_uri": "https://localhost:8080/",
     "height": 34
    },
    "id": "lkrn2ntEYRag",
    "outputId": "6c6d13fa-0eb7-45ae-f6c2-baecf9524dbb"
   },
   "outputs": [],
   "source": [
    "# Podemos sumar integers y float. Esto tiene sentido ya que ambos son numeros.\n",
    "var2 + var3"
   ]
  },
  {
   "cell_type": "code",
   "execution_count": null,
   "metadata": {
    "colab": {
     "base_uri": "https://localhost:8080/",
     "height": 34
    },
    "id": "_dZyOcM3YVQG",
    "outputId": "3b1a1843-1992-49af-f6e1-2dba8756cbf6"
   },
   "outputs": [],
   "source": [
    "# Cambiemos el True por False. Tan sencillo como:\n",
    "not(var4)"
   ]
  },
  {
   "cell_type": "markdown",
   "metadata": {
    "id": "dW-QyHT7MTmb"
   },
   "source": [
    "Como vemos cada tipo va a tener diferentes funciones asociadas. No podemos realizar las mismas operaciones con una variable numerica que con un string por ejemplo. Para ver con mas detalle las diferentes funciones asociados con los tipos de variables consultar la [documentacion](https://python-reference.readthedocs.io/en/latest/basic_data_types.html)"
   ]
  },
  {
   "cell_type": "code",
   "execution_count": null,
   "metadata": {
    "colab": {
     "base_uri": "https://localhost:8080/",
     "height": 34
    },
    "id": "BHFwZqfil2f_",
    "outputId": "7a98a808-4c77-4f30-af76-d45a4feecb31"
   },
   "outputs": [],
   "source": [
    "type(var1)"
   ]
  },
  {
   "cell_type": "markdown",
   "metadata": {
    "id": "gi0LCTUVl-6f"
   },
   "source": [
    "`type` es una `palabra reservada` de Python. Esto quiere decir que es una `función` que vienen por defecto en el paquete standard de Python.<br>\n",
    "En este caso `type` nos permite saber el tipo de variable dentro de los parentesis.\n",
    "Lista de palabras reservadas: \n",
    ">['False', 'None', 'True', 'and', 'as', 'assert', 'async', 'await', 'break', 'class', 'continue', 'def', 'del', 'elif', 'else', 'except', 'finally', 'for', 'from', 'global', 'if', 'import', 'in', 'is', 'lambda', 'nonlocal', 'not', 'or', 'pass', 'raise', 'return', 'try', 'while', 'with', 'yield']"
   ]
  },
  {
   "cell_type": "code",
   "execution_count": null,
   "metadata": {
    "colab": {
     "base_uri": "https://localhost:8080/",
     "height": 357
    },
    "id": "zwbc_QEtmsuh",
    "outputId": "eafe957b-0c1e-4a1e-d464-2dcd02caada8"
   },
   "outputs": [],
   "source": [
    "# help es una funcion incorporada que nos permite acceder a la documentacion de diversas funciones. \n",
    "# En la celda 2 usamos una de estas palabras reservadas, vamos a ver que dice la documentación\n",
    "help(print)"
   ]
  },
  {
   "cell_type": "code",
   "execution_count": null,
   "metadata": {
    "id": "TP9McIQvpM4H",
    "outputId": "46791cb5-3268-476a-d7a9-d4f2fed72cea"
   },
   "outputs": [],
   "source": [
    "# Si queremos conocer en mas detalle una variable podemos usar el simbolo ? al final. Esto nos dira el tipo de variable y otros datos asociados\n",
    "var1?"
   ]
  },
  {
   "cell_type": "markdown",
   "metadata": {
    "id": "5YvR96nKpM4J"
   },
   "source": [
    "Va a haber momentos en que queramos usar funciones especificas que no vienen incluidas en nuestra libreria standard. En esos casos vamos a **instalar e importar** las librerías.<br>\n",
    "Por suerte Colab viene con una gran cantidad de librerias ya incluidas. De cualquier manera, si queres ver esto en mas detalla haz click en el link:<br>\n",
    "[Instalar librerias y Python en Windows](https://data-flair.training/blogs/install-pandas-on-windows/)"
   ]
  },
  {
   "cell_type": "markdown",
   "metadata": {
    "id": "7Ybq3bGxpM4K"
   },
   "source": [
    "\n",
    "A veces nos vamos a encontrar con casos en los cuales queremos transformar una variable de un tipo a otro. Python nos permite hacer esto muy facilmente:"
   ]
  },
  {
   "cell_type": "code",
   "execution_count": null,
   "metadata": {
    "id": "Pwen7MUqpM4K",
    "outputId": "ac107bed-01e4-4fcc-86d0-94f43371fd06"
   },
   "outputs": [],
   "source": [
    "int(1.56)"
   ]
  },
  {
   "cell_type": "code",
   "execution_count": null,
   "metadata": {
    "id": "0cmVQu5RpM4N",
    "outputId": "f964f656-fe74-43b6-a210-7e4f25959095"
   },
   "outputs": [],
   "source": [
    "float(7)"
   ]
  },
  {
   "cell_type": "code",
   "execution_count": null,
   "metadata": {
    "id": "x-9f5cNspM4P",
    "outputId": "648d230c-8f7f-4c7c-9e0c-b9ef4d8a1a02"
   },
   "outputs": [],
   "source": [
    "type('123')"
   ]
  },
  {
   "cell_type": "code",
   "execution_count": null,
   "metadata": {
    "id": "C-BzyuygpM4R",
    "outputId": "1f7030de-e082-40cc-f834-56617ca47cf5"
   },
   "outputs": [],
   "source": [
    "type(int('123'))"
   ]
  },
  {
   "cell_type": "code",
   "execution_count": null,
   "metadata": {
    "id": "FUeB3l_0pM4U",
    "outputId": "8440b066-04f1-44ed-995c-40f67c2072a4"
   },
   "outputs": [],
   "source": [
    "str(int('123'))"
   ]
  },
  {
   "cell_type": "markdown",
   "metadata": {
    "id": "8SsiQZciKEM3"
   },
   "source": [
    "### Operadores\n",
    "\n",
    "Si bien los tipos de variable booleans admiten solamente dos valores (True o False), hay una serie de operadores que vamos a poder utilizar (dependiendo el tipo de variable) para realizar una evaluacion lógica, arrojando como resultado un valor de verdad, o en otras palabras, un boolean. \n",
    "\n",
    "Los operadores disponibles son:\n",
    "\n",
    "Relacionales (aplicable a tipos de variable no booleanas):\n",
    "\n",
    "- \\>= , <=, <, > : Mayor o igual, menor o igual, mayor o menor\n",
    "- != , == : Distinto, Igual\n",
    "- in : Contenido en (dentro de)\n",
    "\n",
    "Lógicos (aplicable solo a variables booleanas):\n",
    "- not o ~ : Negación\n",
    "- and o & : Ambas verdaderas\n",
    "- or o | : Una u otra es verdadera\n",
    "\n",
    "\n"
   ]
  },
  {
   "cell_type": "code",
   "execution_count": null,
   "metadata": {
    "colab": {
     "base_uri": "https://localhost:8080/",
     "height": 34
    },
    "id": "6Hw4eI73LQad",
    "outputId": "bd39df1a-0af1-4e46-8a07-9026c5ef1d5e"
   },
   "outputs": [],
   "source": [
    "5 > 6"
   ]
  },
  {
   "cell_type": "code",
   "execution_count": null,
   "metadata": {
    "colab": {
     "base_uri": "https://localhost:8080/",
     "height": 34
    },
    "id": "hkZrCIELLbFE",
    "outputId": "cecb70b6-0a34-4db7-c941-f2975b5a5be0"
   },
   "outputs": [],
   "source": [
    "'VARIABLE' == 'VARIABLE'"
   ]
  },
  {
   "cell_type": "code",
   "execution_count": null,
   "metadata": {
    "colab": {
     "base_uri": "https://localhost:8080/",
     "height": 34
    },
    "id": "86f0NUqPLiNT",
    "outputId": "a005ff7c-2192-4359-e631-5cc359e13022"
   },
   "outputs": [],
   "source": [
    "1.0 in [1.0, 2.0 , 3.0]"
   ]
  },
  {
   "cell_type": "code",
   "execution_count": null,
   "metadata": {
    "colab": {
     "base_uri": "https://localhost:8080/",
     "height": 34
    },
    "id": "0GQ8NPeMLz8c",
    "outputId": "04a24e70-d83d-423d-fd5c-5ac6f05b06c9"
   },
   "outputs": [],
   "source": [
    "True and False"
   ]
  },
  {
   "cell_type": "code",
   "execution_count": null,
   "metadata": {
    "colab": {
     "base_uri": "https://localhost:8080/",
     "height": 34
    },
    "id": "uvjzgu7nL4Yb",
    "outputId": "5e2f7145-0d39-4ebe-cf60-1fad6e6f893e"
   },
   "outputs": [],
   "source": [
    "(5 > 4) and (5 > 6)"
   ]
  },
  {
   "cell_type": "markdown",
   "metadata": {
    "id": "G5tycr9hOK_J"
   },
   "source": [
    "### Secuencias \n",
    "\n",
    "Una `string` es un tipo de variable que corresponde a esta categoria, lo mismo sucede con las lista y tuplas. Si bien va a haber acciones comunes en todas las secuencias, va a haber otras que van a depender del tipo de variable de mi secuencias."
   ]
  },
  {
   "cell_type": "code",
   "execution_count": null,
   "metadata": {
    "colab": {
     "base_uri": "https://localhost:8080/",
     "height": 34
    },
    "id": "Q5Iz2nh-vIzU",
    "outputId": "136e706d-17cb-445e-e087-ef931c7df267"
   },
   "outputs": [],
   "source": [
    "# Ejemplo uns string\n",
    "palabra = 'Hospital'"
   ]
  },
  {
   "cell_type": "code",
   "execution_count": null,
   "metadata": {
    "colab": {
     "base_uri": "https://localhost:8080/",
     "height": 35
    },
    "id": "VysqpnTUvYla",
    "outputId": "df2f94b3-1997-4549-d741-8caac4808dc0"
   },
   "outputs": [],
   "source": [
    "# Poseeo metodos específicos para actuar sobre ellas\n",
    "palabra.replace('s',\"SSS\")"
   ]
  },
  {
   "cell_type": "code",
   "execution_count": null,
   "metadata": {
    "colab": {
     "base_uri": "https://localhost:8080/",
     "height": 35
    },
    "id": "ZDgOA6g19BMx",
    "outputId": "980c2c85-f762-42b0-f0b2-cd12e24ad9a2"
   },
   "outputs": [],
   "source": [
    "# Al mismo tiempo puedo realizar operaciones. Estas van a depender nuevamente de mi tipo de variable\n",
    "'las strings se pueden' + ' sumar/concatenar' "
   ]
  },
  {
   "cell_type": "code",
   "execution_count": null,
   "metadata": {
    "colab": {
     "base_uri": "https://localhost:8080/",
     "height": 163
    },
    "id": "8KgFks87-JON",
    "outputId": "727b4bfa-149a-47ed-fddc-b5341ecb65f8"
   },
   "outputs": [],
   "source": [
    "'pero no se pueden' - ' restar'"
   ]
  },
  {
   "cell_type": "markdown",
   "metadata": {
    "id": "PQYZwJa6pM4o"
   },
   "source": [
    "**Slicing**\n",
    "\n",
    "Las secuencias permiten ser indexadas, o en otras palabras, seleccionar N elementos de las mismas. Python nos permite una gran flexibilidad para hacer esto. Veamos como:\n",
    "![Indexing](https://user-images.githubusercontent.com/43391630/94975818-dc4ab100-04e0-11eb-85ab-b58939445f1b.png)"
   ]
  },
  {
   "cell_type": "code",
   "execution_count": null,
   "metadata": {
    "id": "IOv2IfVGpM4o",
    "outputId": "9e0293a6-b58d-4c74-bd50-fd3e79f737bb"
   },
   "outputs": [],
   "source": [
    "# Entonces si queremos seleccionar la primer letra harems\n",
    "palabra[0]"
   ]
  },
  {
   "cell_type": "markdown",
   "metadata": {
    "id": "DrHBiQW6pM4q"
   },
   "source": [
    "**Atención** los indices (el numero que corresponde a la posicion de un elemento en una sequencia) en Python empiezan en el 0. <br>\n",
    "Para recordarlo pensemos en un ascensor, el primer elemento en vez de ser `primer piso` es `planta baja`(es decir 0)"
   ]
  },
  {
   "cell_type": "code",
   "execution_count": null,
   "metadata": {
    "id": "bnficuFtpM4r",
    "outputId": "d068230c-3bda-4b60-a3f7-947ef4b32fe0"
   },
   "outputs": [],
   "source": [
    "# Tambien podemos indexar hacia atras\n",
    "palabra[-1]"
   ]
  },
  {
   "cell_type": "markdown",
   "metadata": {
    "id": "juL521X9pM4t"
   },
   "source": [
    "**Ejercicio** \n",
    "\n",
    "Seleccionar todas las vocales de la variable `palabra`\n"
   ]
  },
  {
   "cell_type": "code",
   "execution_count": null,
   "metadata": {},
   "outputs": [],
   "source": [
    "print(palabra)"
   ]
  },
  {
   "cell_type": "code",
   "execution_count": null,
   "metadata": {
    "id": "zTEIHKFUpM4u"
   },
   "outputs": [],
   "source": []
  },
  {
   "cell_type": "markdown",
   "metadata": {
    "id": "9e0wzaAApM4v"
   },
   "source": [
    "**Ejercicio**\n",
    "\n",
    "Imaginemos que queremos contar cuantas comas (,) hay en un corpus de texto.<br>\n",
    "¿Cómo lo harias? Sugerimos que chusmees la [documentación](https://docs.python.org/es/3.8/library/string.html) <br>\n",
    "pd: son 10"
   ]
  },
  {
   "cell_type": "code",
   "execution_count": null,
   "metadata": {
    "id": "NovoEaMwpM4w"
   },
   "outputs": [],
   "source": [
    "pal_larga = \"The string module contains a number of useful constants and classes, as well as some deprecated legacy functions that are also available as methods on strings. In addition, Python’s built-in string classes support the sequence type methods described in the Sequence Types — str, unicode, list, tuple, bytearray, buffer, xrange section, and also the string-specific methods described in the String Methods section. To output formatted strings use template strings or the % operator described in the String Formatting Operations section. Also, see the re module for string functions based on regular expressions.\""
   ]
  },
  {
   "cell_type": "code",
   "execution_count": null,
   "metadata": {
    "id": "48DmXx6gpM4y",
    "outputId": "96f59cbf-8326-475b-8ffa-56fad17abcd8"
   },
   "outputs": [],
   "source": [
    "#imprime la cantidad de comas en la variable `pal_larga`\n"
   ]
  },
  {
   "cell_type": "markdown",
   "metadata": {
    "id": "sOU8ICrKpM40"
   },
   "source": [
    "---"
   ]
  },
  {
   "cell_type": "markdown",
   "metadata": {
    "id": "m_Pwd_IAuw0q"
   },
   "source": [
    "### Listas\n",
    "\n",
    "Las listas en Python son una secuencia de valores los cuales pueden ser de cualquier tipo, cadenas, números, floats, contenido mixto o lo que sea. [Documentación](https://docs.python.org/es/3.8/tutorial/datastructures.html)"
   ]
  },
  {
   "cell_type": "code",
   "execution_count": null,
   "metadata": {
    "id": "A7j83nW-MQcf"
   },
   "outputs": [],
   "source": [
    "# Listas\n",
    "seq1 = [1,2,3,\"a\", \"b\", \"c\", 1.1, 2.3, 3.5, True, False]"
   ]
  },
  {
   "cell_type": "code",
   "execution_count": null,
   "metadata": {
    "colab": {
     "base_uri": "https://localhost:8080/",
     "height": 34
    },
    "id": "-dV2AoFtOr-O",
    "outputId": "7a95c915-6868-467b-807d-73d760c08fa4"
   },
   "outputs": [],
   "source": [
    "seq1"
   ]
  },
  {
   "cell_type": "code",
   "execution_count": null,
   "metadata": {
    "colab": {
     "base_uri": "https://localhost:8080/",
     "height": 34
    },
    "id": "bHZBi2kpOtNi",
    "outputId": "1e981801-b71d-432f-a050-6490ce544b4e"
   },
   "outputs": [],
   "source": [
    "len(seq1) # Cantidad de elementos en mi sequencia"
   ]
  },
  {
   "cell_type": "code",
   "execution_count": null,
   "metadata": {
    "colab": {
     "base_uri": "https://localhost:8080/",
     "height": 34
    },
    "id": "6CF9c02mO5OW",
    "outputId": "b363178c-ac82-4f0b-8b6a-3eba91cc7d7b"
   },
   "outputs": [],
   "source": [
    "seq1[0], seq1[5],  seq1[-1]"
   ]
  },
  {
   "cell_type": "code",
   "execution_count": null,
   "metadata": {
    "colab": {
     "base_uri": "https://localhost:8080/",
     "height": 163
    },
    "id": "1u_VmadtPyIO",
    "outputId": "2e4b08ce-1fbd-4169-d287-78704a1860f2"
   },
   "outputs": [],
   "source": [
    "seq1[0:3]"
   ]
  },
  {
   "cell_type": "code",
   "execution_count": null,
   "metadata": {
    "id": "O-RCg9ClpM49",
    "outputId": "22e263ac-10a3-48a2-af9d-a260c293ce55"
   },
   "outputs": [],
   "source": [
    "seq1[0:-1:2]"
   ]
  },
  {
   "cell_type": "code",
   "execution_count": null,
   "metadata": {
    "colab": {
     "base_uri": "https://localhost:8080/",
     "height": 34
    },
    "id": "P_B0K5-SsH_L",
    "outputId": "5c4f441a-a693-419f-a8b0-de9243808018"
   },
   "outputs": [],
   "source": [
    "# Otras operaciones\n",
    "seq1.remove(1)  # Borrar un elemento que tenga ese valor. Atencion esto opera sobre la misma variable\n",
    "seq1"
   ]
  },
  {
   "cell_type": "code",
   "execution_count": null,
   "metadata": {
    "colab": {
     "base_uri": "https://localhost:8080/",
     "height": 34
    },
    "id": "6qy16emDsX86",
    "outputId": "7ca9ee76-546f-4466-d15c-6368bf0880fe"
   },
   "outputs": [],
   "source": [
    "del seq1[0]  # Borrar los indices seleccionados \n",
    "seq1"
   ]
  },
  {
   "cell_type": "code",
   "execution_count": null,
   "metadata": {
    "colab": {
     "base_uri": "https://localhost:8080/",
     "height": 34
    },
    "id": "I13HqYLesZQz",
    "outputId": "03835088-a077-4358-eb21-e791d21305f3"
   },
   "outputs": [],
   "source": [
    "seq1.append(1) # agregar un elemento (final de la lista)\n",
    "seq1"
   ]
  },
  {
   "cell_type": "code",
   "execution_count": null,
   "metadata": {
    "colab": {
     "base_uri": "https://localhost:8080/",
     "height": 34
    },
    "id": "gx4IoNg0thZC",
    "outputId": "13b8d62a-101c-470c-d38a-87ffb4d8f236"
   },
   "outputs": [],
   "source": [
    "seq1.append([1,1,1,1]) # agregar un elemento (final de la lista)\n",
    "seq1"
   ]
  },
  {
   "cell_type": "code",
   "execution_count": null,
   "metadata": {
    "colab": {
     "base_uri": "https://localhost:8080/",
     "height": 51
    },
    "id": "5gyZS4hms_Jv",
    "outputId": "57c0c5da-fc04-418f-dc5c-dc8644ae5f50"
   },
   "outputs": [],
   "source": [
    "print(len(seq1))"
   ]
  },
  {
   "cell_type": "markdown",
   "metadata": {
    "id": "MVEU27HcpM5K"
   },
   "source": [
    "**Ejercicio**\n",
    "\n",
    "Remueve todos las variables de tipo float de nuestra la variable `seq1_copia`"
   ]
  },
  {
   "cell_type": "code",
   "execution_count": null,
   "metadata": {
    "id": "AtSp8egdpM5L",
    "outputId": "c88f00ca-505f-4f46-8c5b-f9611424e039"
   },
   "outputs": [],
   "source": [
    "seq1_copia = seq1.copy() # Esto es para que no perdamos la informacion de nuestra variable seq1"
   ]
  },
  {
   "cell_type": "code",
   "execution_count": null,
   "metadata": {},
   "outputs": [],
   "source": [
    "del seq1_copia[4:7]"
   ]
  },
  {
   "cell_type": "code",
   "execution_count": null,
   "metadata": {},
   "outputs": [],
   "source": [
    "print(seq1_copia)"
   ]
  },
  {
   "cell_type": "code",
   "execution_count": null,
   "metadata": {},
   "outputs": [],
   "source": [
    "seq1_copia = seq1.copy()\n",
    "seq1_copia.remove(1.1)\n",
    "seq1_copia.remove(2.3)\n",
    "seq1_copia.remove(3.5)\n",
    "print(seq1_copia)"
   ]
  },
  {
   "cell_type": "markdown",
   "metadata": {
    "id": "a5ptqcEwpM5N"
   },
   "source": [
    "**Ejercicio**\n",
    "\n",
    "Vamos a crear una lista con multiples numeros random. No te preocupes si no entendes que estamos haciendo, ya lo veremos más adelante"
   ]
  },
  {
   "cell_type": "code",
   "execution_count": null,
   "metadata": {
    "id": "e-qfSsr0pM5O"
   },
   "outputs": [],
   "source": [
    "# No cambies nada de esta celda\n",
    "import random\n",
    "numeros_random = [random.randint(1,10) for x in range(100) ]"
   ]
  },
  {
   "cell_type": "markdown",
   "metadata": {
    "id": "I3r-cDInpM5P"
   },
   "source": [
    "Lo que vos vas a tener que hacer en decir cuál es la probabilidad o frecuencia relativa del numero `2`. Para eso deberas saber cuantos elementos hay en la lista y cuantas veces aparecio este numero.<br> *psst!... recorda como contaste las comas antes!*"
   ]
  },
  {
   "cell_type": "code",
   "execution_count": null,
   "metadata": {
    "id": "rqCI5GnXpM5P"
   },
   "outputs": [],
   "source": []
  },
  {
   "cell_type": "markdown",
   "metadata": {
    "id": "KcXuhEEBpM5S"
   },
   "source": [
    "---"
   ]
  },
  {
   "cell_type": "markdown",
   "metadata": {
    "id": "rlqM07sGuaH7"
   },
   "source": [
    "### Tuplas"
   ]
  },
  {
   "cell_type": "markdown",
   "metadata": {
    "id": "Yg4U_-FKuFJU"
   },
   "source": [
    "Las tuplas se diferencian principalmente de las lista es que son `inmutables` es decir que no soportan nuevas asignaciones (es decir no pueden expandirse una vez que han sido declaradas) ni tampoco aceptan modificaciones (item assignment). [Documentacion](https://docs.python.org/es/3.8/tutorial/datastructures.html?highlight=tuples#tuples-and-sequences)"
   ]
  },
  {
   "cell_type": "code",
   "execution_count": null,
   "metadata": {
    "colab": {
     "base_uri": "https://localhost:8080/",
     "height": 34
    },
    "id": "-yRJYepuPD9_",
    "outputId": "f2fc8828-1356-47e1-c1dd-05e540ceefa2"
   },
   "outputs": [],
   "source": [
    "# Tuplas\n",
    "seq2 = (\"a\",1, 9.99) \n",
    "# Prestar atención como python sabe que algo es una tupla o una lista dependiendo si empieza con parentesis o corchetes.\n",
    "seq2[2]"
   ]
  },
  {
   "cell_type": "code",
   "execution_count": null,
   "metadata": {
    "colab": {
     "base_uri": "https://localhost:8080/",
     "height": 180
    },
    "id": "YIUvp16itxnT",
    "outputId": "35a7cee4-8b37-4cd3-8d63-a40774317ced"
   },
   "outputs": [],
   "source": [
    "seq2.append(5)"
   ]
  },
  {
   "cell_type": "code",
   "execution_count": null,
   "metadata": {
    "colab": {
     "base_uri": "https://localhost:8080/",
     "height": 163
    },
    "id": "sb7RAfaEt-_V",
    "outputId": "6314a18d-df3f-4748-8248-6eba5d461344"
   },
   "outputs": [],
   "source": [
    "seq2[0] = 'b'"
   ]
  },
  {
   "cell_type": "markdown",
   "metadata": {
    "id": "lJxlO3jgugfl"
   },
   "source": [
    "### Mapping (o diccionarios)\n",
    "\n",
    "Los diccionarios consisten en estructuras que contienen pares de una `key` y un `value`. Los elementos **no están ordenados**, con lo cual no se puede acceder por posición ni slicing, sino mediante esta `key`. [Documentación](https://docs.python.org/es/3/tutorial/datastructures.html#dictionaries).\n",
    "\n",
    "A diferencia de las secuencias, que se indexan mediante un rango numérico, los diccionarios se indexan con claves, que pueden ser cualquier tipo inmutable; las strings y números siempre pueden ser claves. Las tuplas pueden usarse como claves si solamente contienen strings, números o tuplas; si una tupla contiene cualquier objeto mutable directa o indirectamente, no puede usarse como clave (recordemos que un ejemplo de tipo de variable mutables son las listas)."
   ]
  },
  {
   "cell_type": "code",
   "execution_count": null,
   "metadata": {
    "id": "OyBC4L0_P5oG"
   },
   "outputs": [],
   "source": [
    "# Diccionarios\n",
    "mydict = {'key1' : 'valor1',\n",
    "          'key2' : 55,\n",
    "          'key3' : 98.5,\n",
    "          'key4' : seq1,\n",
    "          68 : \"68\",\n",
    "          ('una_tupla','otro_string') : 5\n",
    "          }"
   ]
  },
  {
   "cell_type": "code",
   "execution_count": null,
   "metadata": {
    "colab": {
     "base_uri": "https://localhost:8080/",
     "height": 34
    },
    "id": "r122xs3MQh_h",
    "outputId": "bd76e2ef-5260-476f-b6fa-26d17e944a28"
   },
   "outputs": [],
   "source": [
    "# Podemos observar los items (key,value) en nuestro diccionario\n",
    "mydict.items()"
   ]
  },
  {
   "cell_type": "code",
   "execution_count": null,
   "metadata": {
    "id": "KOFD6Fx8pM5f",
    "outputId": "0cb3f823-bd25-436a-a941-f1224a243281"
   },
   "outputs": [],
   "source": [
    "mydict['key1']"
   ]
  },
  {
   "cell_type": "code",
   "execution_count": null,
   "metadata": {
    "colab": {
     "base_uri": "https://localhost:8080/",
     "height": 34
    },
    "id": "FzWQwHBMQmck",
    "outputId": "36d9f71a-4978-40d4-ff41-c9aedb51a770"
   },
   "outputs": [],
   "source": [
    "mydict['key4']"
   ]
  },
  {
   "cell_type": "code",
   "execution_count": null,
   "metadata": {
    "colab": {
     "base_uri": "https://localhost:8080/",
     "height": 35
    },
    "id": "Vsx4ikx-QtFZ",
    "outputId": "5c9a9e53-5ae6-4438-b03e-4aac56930a6d"
   },
   "outputs": [],
   "source": [
    "mydict[68] #No es la practica mas recomendable pero se puede hacer"
   ]
  },
  {
   "cell_type": "code",
   "execution_count": null,
   "metadata": {
    "id": "Fiw-MyqlpM5m",
    "outputId": "07d7f1ca-1c82-47ba-c772-7dfe6420e623"
   },
   "outputs": [],
   "source": [
    "mydict[('una_tupla','otro_string')]"
   ]
  },
  {
   "cell_type": "markdown",
   "metadata": {
    "id": "UnG2c4HppM5o"
   },
   "source": [
    "**Ejercicio**\n",
    "\n",
    "Vamos a suponer que trabajamos en un hospital (qué sorpresa!) y decidimos guardar los datos de contacto de nuestros pacientes en una estructura de diccionario. "
   ]
  },
  {
   "cell_type": "code",
   "execution_count": null,
   "metadata": {
    "id": "ORtjGYvgpM5o"
   },
   "outputs": [],
   "source": [
    "paciente_1 = {\"direccion\" : \"Santa Fe 1987, 10C\",\n",
    "              \"celular\" : 1110101010,\n",
    "            \"telefono_casa\" : 47173890,\n",
    "            \"nombre\" : \"Lionel\",\n",
    "            \"apellido\" : None\n",
    "           }\n",
    "paciente_2 = {\"direccion\" : \"Calle Torero 10, Madrid\",\n",
    "            \"celular\" : 1119781010,\n",
    "            \"apellido\" : 'Riquelme'  \n",
    "           }"
   ]
  },
  {
   "cell_type": "markdown",
   "metadata": {
    "id": "S-Rj3sVZpM5q"
   },
   "source": [
    "Debes completar el campo de apellido del `paciente_1` con algun valor para la `key` apellido. ¿Qué pasa si ponemos le pedimos a este paciente su apellido antes? y despues de asignarle un valor?"
   ]
  },
  {
   "cell_type": "code",
   "execution_count": null,
   "metadata": {
    "id": "E2BdPFYGpM5q"
   },
   "outputs": [],
   "source": [
    "# Explorar el valor aqui\n"
   ]
  },
  {
   "cell_type": "code",
   "execution_count": null,
   "metadata": {
    "id": "-CF221_dpM5s"
   },
   "outputs": [],
   "source": [
    "# Asigna un valor y explora aqui\n"
   ]
  },
  {
   "cell_type": "markdown",
   "metadata": {
    "id": "goFQduPxpM5t"
   },
   "source": [
    "**Ejercicio**\n",
    "\n",
    "Vemos que el paciente 2 tiene menos datos. Imaginemos que quisieramos saber si tiene un nombre registrado, una opción podría ser usar la key `nombre`, pero qué pasaría si hicieramos esto y no tendría este valor?\n",
    "Quizas seria bueno explorar la [documentación](https://docs.python.org/es/3/tutorial/datastructures.html#dictionaries), quizas un método de nuestra variable nos resulte útil <br>*(pssst... empieza con 'ge...)*."
   ]
  },
  {
   "cell_type": "code",
   "execution_count": null,
   "metadata": {
    "id": "ec4egNwbpM5t"
   },
   "outputs": [],
   "source": [
    "#Prueba que pasa si usamos `nombre` como key para el paciente_2\n"
   ]
  },
  {
   "cell_type": "code",
   "execution_count": null,
   "metadata": {
    "id": "5AJQVgblpM5v"
   },
   "outputs": [],
   "source": [
    "#Utiliza la función que encontraste para que devuelva un nombre en caso que el paciente_2 no lo tenga registrado\n"
   ]
  },
  {
   "cell_type": "markdown",
   "metadata": {
    "id": "caiR8zeHpM5x"
   },
   "source": [
    "Mucha gente no completa los campos de `telefono_casa`. Podemos ver como el `paciente_2` es medio reservado y no lo hizo. Supongamos que tenemos un script que necesita que la variable paciente tenga este campo (aunque no haga nada con ese valor). Estaría bueno crear esta key y asignarle un valor por defecto en caso de que no exista para nuestro paciente. Quizas esto sea un problema común y haya un metodo por defecto que lo haga. *(psst!...empieza con 'setd...')*."
   ]
  },
  {
   "cell_type": "code",
   "execution_count": null,
   "metadata": {
    "id": "l9WILlNupM5y"
   },
   "outputs": [],
   "source": []
  },
  {
   "cell_type": "code",
   "execution_count": null,
   "metadata": {},
   "outputs": [],
   "source": [
    "# Veamos que pasa si ahora pedimos esta key\n"
   ]
  },
  {
   "cell_type": "markdown",
   "metadata": {},
   "source": [
    "¿Qué pasaría si usaramos el mismo metodo con el mismo valor por defecto para para el `paciente_2`?"
   ]
  },
  {
   "cell_type": "code",
   "execution_count": null,
   "metadata": {},
   "outputs": [],
   "source": []
  },
  {
   "cell_type": "markdown",
   "metadata": {
    "id": "xoB5w5-BpM5z"
   },
   "source": [
    "---"
   ]
  },
  {
   "cell_type": "markdown",
   "metadata": {
    "id": "bvgAt9g1pM5z"
   },
   "source": [
    "### Sets\n",
    "Un objeto de tipo `set` o `conjunto` es una colección no ordenada de distintos objetos hashable. Los casos de uso habituales incluyen comprobar la pertenencia al conjunto de un elemento, eliminar duplicados de una secuencia y realizar operaciones matemáticas como la intersección, la unión, la diferencia o la diferencia simétrica. [Documentación](https://docs.python.org/es/3.8/library/stdtypes.html#set-types-set-frozenset)"
   ]
  },
  {
   "cell_type": "code",
   "execution_count": null,
   "metadata": {
    "id": "uZxqYjdjpM50",
    "outputId": "02fde029-3ccc-416d-dfde-89521f9f3c98"
   },
   "outputs": [],
   "source": [
    "# Un set es definido con {}. Automáticamente Python removerá los duplicados\n",
    "un_set = {1,2,3,1,1} \n",
    "un_set"
   ]
  },
  {
   "cell_type": "code",
   "execution_count": null,
   "metadata": {
    "id": "v1oo-KeWpM51",
    "outputId": "651bc491-9aad-4c06-b329-534d2a7e6cc9"
   },
   "outputs": [],
   "source": [
    "# Tambien podemos transformar objetos de tipo lista o tuple en sets\n",
    "list_set = set(['una', 'lista','con','strings','con', 'strings'])\n",
    "list_set # vemos que el orden no se conserva, sino que son ordenados alfabéticamente"
   ]
  },
  {
   "cell_type": "code",
   "execution_count": null,
   "metadata": {
    "id": "m9UoPjolpM52",
    "outputId": "aecbb047-c99f-46c9-8897-46092d93fadb"
   },
   "outputs": [],
   "source": [
    "tupla_set = set(('una', 'lista','con','strings','con', 'strings'))\n",
    "tupla_set "
   ]
  },
  {
   "cell_type": "markdown",
   "metadata": {
    "id": "9kPT9cLYpM53"
   },
   "source": [
    "Podemos usar operadores como los que vimos més arriba:"
   ]
  },
  {
   "cell_type": "code",
   "execution_count": null,
   "metadata": {
    "id": "QiEmuue5pM54",
    "outputId": "ff4c3388-e79b-48f9-df07-10aa46392410"
   },
   "outputs": [],
   "source": [
    "pacientes = {\"Oscar\", \"Jorge\", \"Mariana\", 'Estela'}\n",
    "'Jorge' in pacientes"
   ]
  },
  {
   "cell_type": "markdown",
   "metadata": {
    "id": "kVIbqHEkpM58"
   },
   "source": [
    "**Ejercicio**\n",
    "\n",
    "Muchas veces tenemos grandes cantitades de datos, pero estos se encuentra repetidos, cuando nos interesa saber si dos conjuntos comparten elementos (por ejemplo valores, o etiquetas) podemos usar las funciones propias de los sets. La siguiente imagen resumen rapidamente cuales son estas.\n",
    "\n",
    "![operaciones de conjuntos](https://user-images.githubusercontent.com/43391630/94975728-90980780-04e0-11eb-91dc-8266fa7a5d35.png)"
   ]
  },
  {
   "cell_type": "code",
   "execution_count": null,
   "metadata": {
    "id": "938oHHjzpM58"
   },
   "outputs": [],
   "source": [
    "casos1 = [random.randint(1,10) for x in range(30)] # lista de numeros random entre 1 y 10\n",
    "casos2 = [random.randint(3,7) for x in range(30)] # lista de numeros random entre 3 y 7"
   ]
  },
  {
   "cell_type": "markdown",
   "metadata": {
    "id": "vf-5pI7spM5_"
   },
   "source": [
    "Imaginemos que queremos saber que numeros tenemos **en comun** entre nuestros variables `casos1` y `casos2`.<br> ¿Cómo lo harias?"
   ]
  },
  {
   "cell_type": "code",
   "execution_count": null,
   "metadata": {
    "id": "b_VSgJRopM5_"
   },
   "outputs": [],
   "source": []
  },
  {
   "cell_type": "markdown",
   "metadata": {
    "id": "nYr4PRBbpkV5"
   },
   "source": [
    " # 3.Condicionales y Bucles (o loops)\n",
    "\n"
   ]
  },
  {
   "cell_type": "markdown",
   "metadata": {
    "id": "E7EzSyFfMr-c"
   },
   "source": [
    "**Bucle** o **loop** se refiere a un tipo de evaluacion condicional en el cual nuestro script continuara realizando una tarea hasta que una condicion logica le indique detenerse (generalmente usamos la palabra reservada **while**) o hasta que se agoten los elementos en los cuales el bucle esta iterando (usamos la palabra reservada **for**).\n",
    "\n"
   ]
  },
  {
   "cell_type": "code",
   "execution_count": null,
   "metadata": {
    "id": "2_Td3aUdPYCe"
   },
   "outputs": [],
   "source": [
    "contador = 5\n",
    "while contador >= 0:\n",
    "    print(contador)\n",
    "    contador = contador - 1 # substrae una unida luego de que realiza el print"
   ]
  },
  {
   "cell_type": "code",
   "execution_count": null,
   "metadata": {
    "id": "sLZAHXJkp8Xt"
   },
   "outputs": [],
   "source": [
    "for valor in [5,4,3,2,1,0]:\n",
    "    print (valor)"
   ]
  },
  {
   "cell_type": "markdown",
   "metadata": {
    "id": "n6tq0xp6p6nw"
   },
   "source": [
    "**Codicional** se refier al flow de decisiones que realizara nuestro script segun determinadas condiciones logicas que le pidamos. \n",
    "\n",
    "El condicional tiene la siguiente sintáxis:\n",
    "```\n",
    "if CONDICIÓN LOGICA:\n",
    "    haz esto \n",
    "elif OTRA CONDICIÓN LOGICA: \n",
    "    haz esto otro \n",
    "else: \n",
    "    sino haz esto \n",
    "```\n",
    "\n",
    "La condicion logica deve devolver un valor verdadero o falso es decir un **BOOLEAN**. <br> \n",
    "La **indentación** del código define qué parte se incluye como condicional.\n",
    "\n",
    "El término \"elif\" viene de \"else if\". La condición sólo se evaluará si la condición del \"if\" no se cumple.\n"
   ]
  },
  {
   "cell_type": "code",
   "execution_count": null,
   "metadata": {
    "colab": {
     "base_uri": "https://localhost:8080/",
     "height": 68
    },
    "id": "oMmwtubxNpuD",
    "outputId": "cdaf10d0-e0c5-48c2-ccfe-cab1a003f21a"
   },
   "outputs": [],
   "source": [
    "# Ejemplo de un condicional. \n",
    "# En este caso el condicional se encuentra dentro de una funcion. Veremos esto mas adelante\n",
    "\n",
    "def mayor_que_10():\n",
    "    valor = int(input('Escriba un numero: \\n'))\n",
    "    # Comienza el condicional\n",
    "    if 10 > valor:\n",
    "        print('Menor que 10')\n",
    "    elif 10 == valor:\n",
    "        print('Igual a 10')\n",
    "    else:\n",
    "        print('Mayor que 10')\n",
    "    return\n",
    "\n",
    "mayor_que_10()"
   ]
  },
  {
   "cell_type": "markdown",
   "metadata": {
    "id": "8XqjtXkmPVtt"
   },
   "source": [
    "### Control de flujo\n",
    "Contamos con 3 keywords que modifican el orden de ejecución dentro de un bucle\n",
    "\n",
    "**continue**: interrumpe el flujo del bucle y retoma la ejecución en la siguiente iteración <br>\n",
    "**break**: termina el bucle <br>\n",
    "**pass**: no tiene efecto, se usa para evitar error cuando lo exige la sintáxis<br>"
   ]
  },
  {
   "cell_type": "code",
   "execution_count": null,
   "metadata": {
    "id": "YsG2zuO-P8RH"
   },
   "outputs": [],
   "source": [
    "for valor in range(10,-3,-1):  \n",
    "    print(valor)\n",
    "\n",
    "# range es una palabra reservada. \n",
    "# En este caso crea algo similar a una lista (se llama generador) que va desde el 10 al -3 substrayendo 1 en cada paso"
   ]
  },
  {
   "cell_type": "code",
   "execution_count": null,
   "metadata": {
    "id": "N3-YH53OQjmi"
   },
   "outputs": [],
   "source": [
    "for valor in range(10,-3,-1):\n",
    "    if valor > 0:\n",
    "        pass # no hara nada\n",
    "        print(valor)\n",
    "    else:\n",
    "        print('Despegue!!')\n",
    "        break # detiene el for. Proba que pasa comentando (pone un #) antes del break\n",
    "    continue\n",
    "    print ('Esto no se llegara a imprimir')"
   ]
  },
  {
   "cell_type": "markdown",
   "metadata": {
    "id": "gCZX2WuhpM6M"
   },
   "source": [
    "**Ejercicio**\n",
    "\n",
    "Vamos a usar algunos de los conceptos que ya vimos. En este caso vamos a contar con una lista de multiples pacientes, Vamos a generarla sintéticamente. Descomenta la siguiente celda y ejecútala. Veremos qué es lo que estamos haciendo  y cómo funciona más adelante."
   ]
  },
  {
   "cell_type": "code",
   "execution_count": null,
   "metadata": {
    "id": "DGZYGnAIpM6M"
   },
   "outputs": [],
   "source": [
    "# !pip install Faker\n",
    "import faker"
   ]
  },
  {
   "cell_type": "code",
   "execution_count": null,
   "metadata": {
    "id": "8HiyrBSCpM6O"
   },
   "outputs": [],
   "source": [
    "pacientes = []\n",
    "for i in range(50): \n",
    "    paciente = faker.Faker(locale='es_ES').profile()\n",
    "    pacientes.append(f'{paciente[\"name\"]}-{paciente[\"sex\"]}_{paciente[\"birthdate\"].year}.txt')"
   ]
  },
  {
   "cell_type": "markdown",
   "metadata": {
    "id": "srjNfvUUpM6R"
   },
   "source": [
    "La variable `paciente` contiene información de multiples pacientes, mas precisamente su nombre, sexo y año de nacimiento. Te recomendamos que explores esta lista para que te familiarices con el formato. Vamos a asumir que los valores dentro de la lista refieren el nombre de unos archivos con datos clinicos de nuestros pacientes.\n",
    "\n",
    "A continuación deberas crear un loop que imprima el nombre de archivo de los pacientes que tengan más de 65 años. Si no son mayores que no haga nada.<br>\n",
    "*(psst!... recorda que podemos leer/indexar una string de derecha a izquierda)*<br>\n",
    "*(psst!... si yo de vuelta, recorda que podemos transformar una string a un integer con un simple comando)*"
   ]
  },
  {
   "cell_type": "code",
   "execution_count": null,
   "metadata": {
    "id": "bW2EVc_7pM6R"
   },
   "outputs": [],
   "source": []
  },
  {
   "cell_type": "markdown",
   "metadata": {
    "id": "DgSvhkBBpM6U"
   },
   "source": [
    "---"
   ]
  },
  {
   "cell_type": "markdown",
   "metadata": {
    "id": "koII890DUtQ-"
   },
   "source": [
    "# 4.Funciones\n",
    "\n",
    "Ya vimos funciones como `mas_que_10`, la cual programoamos nosotros,  asi como otras que vienen definidas por defecto como `print` o `len`\n",
    "\n",
    "Una función usualmente tiene como objetivo tomar algun input, aplicar un algoritmo a ese input y devolver un output. Un algoritmo es una serie de pasos o instrucciones definidas con el objetivo de llevar a cabo una tarea."
   ]
  },
  {
   "cell_type": "markdown",
   "metadata": {
    "id": "P3hygfGQpM6V"
   },
   "source": [
    "Para programar nuestra funcion empezamos utilizando la palabra reservada `def` seguida del nombre de nuestra variable y entre parentesís los `argumentos` o inputs que van ser usados en nuestro algoritmo. Para más información revisar la [documentación](https://docs.python.org/es/3/tutorial/controlflow.html#defining-functions)"
   ]
  },
  {
   "cell_type": "code",
   "execution_count": null,
   "metadata": {
    "id": "5HtgpuyRpM6V"
   },
   "outputs": [],
   "source": [
    "# Estructura básica de una función\n",
    "\n",
    "def nombre_funcion(una_variable):  # Usamos el constructor def para 'construir' nuestra función\n",
    "    otra_variable = una_variable  # Esta función toma un argumento y devuelve el mismo argumento\n",
    "    return otra_variable"
   ]
  },
  {
   "cell_type": "code",
   "execution_count": null,
   "metadata": {
    "id": "AFlW3s21pM6W",
    "outputId": "17513fbb-ca9d-4239-aecf-3a7c79c1d55e"
   },
   "outputs": [],
   "source": [
    "nombre_funcion(5)"
   ]
  },
  {
   "cell_type": "markdown",
   "metadata": {
    "id": "3tf0PStupM6X"
   },
   "source": [
    "La palabra reservada `return` va a hacer que la función devuelva ese output y va a 'terminar' o detener la función. Si bien no es necesario que una función devuelva un output (a veces puede solo printear algo, otras modificar un objeto, etc) es una buena practica. Observa los siguientes comportamientos"
   ]
  },
  {
   "cell_type": "code",
   "execution_count": null,
   "metadata": {
    "id": "dDNDoNU9pM6Y",
    "outputId": "b0670589-c1dc-47a8-e80a-daa0ad068e24"
   },
   "outputs": [],
   "source": [
    "def ver_return():\n",
    "    print('Antes del return')\n",
    "    if True:\n",
    "        return\n",
    "    print('Luego del return')\n",
    "ver_return()"
   ]
  },
  {
   "cell_type": "code",
   "execution_count": null,
   "metadata": {
    "id": "xn2dWzWCpM6Z"
   },
   "outputs": [],
   "source": [
    "lista_vacia = []\n",
    "def agregar_hola(lista):\n",
    "    lista.append('HOLA!')\n",
    "agregar_hola(lista_vacia)"
   ]
  },
  {
   "cell_type": "code",
   "execution_count": null,
   "metadata": {
    "id": "u25KlunopM6a",
    "outputId": "cf1d6a70-1ff9-4dfd-e174-4e89949e8605"
   },
   "outputs": [],
   "source": [
    "lista_vacia"
   ]
  },
  {
   "cell_type": "markdown",
   "metadata": {
    "id": "msmceQfxpM6b"
   },
   "source": [
    "### Definiendo una función\n",
    "\n",
    "Definamos una función más interesante y útil"
   ]
  },
  {
   "cell_type": "code",
   "execution_count": null,
   "metadata": {
    "id": "OW-Qpmg5pM6b"
   },
   "outputs": [],
   "source": [
    "def par_inpar(n):\n",
    "    '''\n",
    "    Aqui pondriamos una definición de nuestra variable. \n",
    "    Si hacemos esto podemos ver el doctstring de nuestra función y sabremos\n",
    "    (u otra persona que quiera usarla) que hace nuestra función\n",
    "    \n",
    "    :param n: str\n",
    "    :return: str\n",
    "    '''\n",
    "    n = int(n) # Transformemos al input en un integer\n",
    "    if n % 2 == 0:\n",
    "        return 'Par'\n",
    "    elif n % 2 != 0:\n",
    "        return 'Inpar'"
   ]
  },
  {
   "cell_type": "code",
   "execution_count": null,
   "metadata": {
    "id": "MEXYh3fqpM6c",
    "outputId": "a2f5f191-f433-43cd-ffa3-6d2b7258bcb3"
   },
   "outputs": [],
   "source": [
    "# Probemos nuestra función!\n",
    "tu_input = input('Ingresa un numero: ')  # `input` es una palabra reservada de Python que me permite escribir un input\n",
    "par_inpar(tu_input)"
   ]
  },
  {
   "cell_type": "code",
   "execution_count": null,
   "metadata": {
    "id": "3mtTmMnEpM6e",
    "outputId": "4ae62188-ee3b-4353-ded1-eedf7b1b361e"
   },
   "outputs": [],
   "source": [
    "help(par_inpar)"
   ]
  },
  {
   "cell_type": "markdown",
   "metadata": {
    "id": "OlpEXse3pM6f"
   },
   "source": [
    "**Ejercicio**\n",
    "\n",
    "¿Recordas que teniamos una lista de `pacientes` en el ejercicio anterior? Bueno, creemos una función que tome esta lista como argumento y que devuelva una lista con el nombre de los archivos de pacientes mayores a N edad, donde N sera nuestro segundo argumento. "
   ]
  },
  {
   "cell_type": "code",
   "execution_count": null,
   "metadata": {
    "id": "Lo_WxzEapM6f"
   },
   "outputs": [],
   "source": [
    "def filtrador(lista, edad):\n",
    "    '''\n",
    "    Es buena idea documentar nuestras funciones\n",
    "    '''\n",
    "    # Escribe tu codigo aqui\n",
    "    return # Devuelve la lista con pacientes mayores de 65 aqui"
   ]
  },
  {
   "cell_type": "markdown",
   "metadata": {},
   "source": [
    "Prueba tu función con diferentes edades:"
   ]
  },
  {
   "cell_type": "code",
   "execution_count": null,
   "metadata": {
    "id": "bAfYFwTqpM6g"
   },
   "outputs": [],
   "source": []
  },
  {
   "cell_type": "markdown",
   "metadata": {
    "id": "t-6L0EtvpM6h"
   },
   "source": [
    "### Librerías o módulos"
   ]
  },
  {
   "cell_type": "markdown",
   "metadata": {
    "id": "SOU6ols_pM6h"
   },
   "source": [
    "Los módulos son archivos de Python que contienen funciones y variables. Podemos importar los módulos y acceder a las funciones y variables con el operador \".\" (punto) o agregándolos a nuestro namespace. Contamos con las siguientes maneras de importar funciones de un módulo:\n",
    "\n",
    "Importar todo el módulo con el mismo nombre que tiene<br>\n",
    "```python\n",
    "import numpy\n",
    "```\n",
    "\n",
    "Importar el módulo con un alias más corto (por comodidad)<br>\n",
    "```python\n",
    "import numpy as np\n",
    "```\n",
    "\n",
    "Importar únicamente un sub-módulo de una libreria<br>\n",
    "```python\n",
    "from numpy import random\n",
    "```\n",
    "\n",
    "Importar directamente todos los nombres de funciones (en general no recomendado dado que podemos llegar a \"pisar\" un nombre de variable)<br>\n",
    "```python\n",
    "from numpy import *\n",
    "```"
   ]
  },
  {
   "cell_type": "markdown",
   "metadata": {
    "id": "HTl3vfrHpM6i"
   },
   "source": [
    "De la misma manera nosotros podemos incorporar funciones de modulos que nosotros mismos hemos programado. Por ejemplo, imaginemos que en nuestro dia a dia usamos usualmente la función `par_inpar` que ya hemos programado. En vez de definirla en cada `script` que escribamos, sería más útil guardarla e importarla cuando la necesitemos. Vamos a ver como seria eso. Para eso usaremos ciertos comandos de Ipython que nos permiten interactuar con la consola. \n",
    "Para hacer esto necesitamos comenzar la linea con el simbolo \n",
    "```python\n",
    "!\n",
    "```\n",
    "\n",
    "Si el lector desea aprender mas acerca de de los shell commands y Ipython puede consultar el siguiente [link](https://jakevdp.github.io/PythonDataScienceHandbook/01.00-ipython-beyond-normal-python.html)"
   ]
  },
  {
   "cell_type": "code",
   "execution_count": null,
   "metadata": {
    "id": "om8U8UzUpM6i",
    "outputId": "19ce4682-d078-4269-a12e-90718d492f1f"
   },
   "outputs": [],
   "source": [
    "!cd\n",
    "!mkdir nuestro_modulo"
   ]
  },
  {
   "cell_type": "markdown",
   "metadata": {
    "id": "vFwAfIq7pM6k"
   },
   "source": [
    "Ipython nos permite tambien invocar `magic methods`. Un `%` corre el comando solamente en esa linea, `%%` corre el comando para toda la celda.<br>\n",
    "En este caso usaremos\n",
    "```python \n",
    "%%bash\n",
    "```\n",
    " para no tener que usar `!` en todas las lineas."
   ]
  },
  {
   "cell_type": "code",
   "execution_count": null,
   "metadata": {
    "id": "Uj23ggLGpM6l"
   },
   "outputs": [],
   "source": [
    "%%bash \n",
    "cd nuestro_modulo\n",
    "cat >> nuestro_submodulo.py << EOF\n",
    "def par_inpar(n):\n",
    "    '''\n",
    "    Aqui pondriamos una definición de nuestra variable. \n",
    "    Si hacemos esto podemos ver el doctstring de nuestra función y sabremos\n",
    "    (u otra persona que quiera usarla) que hace nuestra función\n",
    "    \n",
    "    :params n: int\n",
    "    :return: str\n",
    "    '''\n",
    "    n = int(n) # Transformemos al input en un integer\n",
    "    if n % 2 == 0:\n",
    "        return 'Par'\n",
    "    elif n % 2 != 0:\n",
    "        return 'Inpar'\n",
    "EOF"
   ]
  },
  {
   "cell_type": "markdown",
   "metadata": {
    "id": "aLD_OLR9pM6m"
   },
   "source": [
    "Si vamos a nuestro file browser podras ver como ahora en la carpeta `nuetro_modulo` podemos ver el Python script llamado `nuestro_submodulo.py`. Si abrimos este archivo veremos que nuestra función `par_inpar` se encuentra adentro."
   ]
  },
  {
   "cell_type": "code",
   "execution_count": null,
   "metadata": {},
   "outputs": [],
   "source": [
    "# Eliminamos la funcion que habiamos programado antes\n",
    "del par_inpar"
   ]
  },
  {
   "cell_type": "code",
   "execution_count": null,
   "metadata": {},
   "outputs": [],
   "source": [
    "#Chequeamos que la función no se encuentra más en nuestro enviroment\n",
    "par_inpar(10)"
   ]
  },
  {
   "cell_type": "code",
   "execution_count": null,
   "metadata": {
    "id": "sLvjlSiWpM6m",
    "outputId": "333c538f-fab6-4261-f657-61e51fbe0d47"
   },
   "outputs": [],
   "source": [
    "# Importamos la funcion en nuestra carpeta `nuestro_modulo`\n",
    "from nuestro_modulo.nuestro_submodulo import par_inpar\n",
    "par_inpar(10)"
   ]
  },
  {
   "cell_type": "markdown",
   "metadata": {
    "id": "oGDX7L6npM6o"
   },
   "source": [
    "Si bien hay mucho más material acerca del uso de funciones en Python, llevaria demasiado tiempo cubrirlo en este curso. \n",
    "Si el lector lo desea, puede continuar por su cuenta explorando el siguiente [enlace](https://realpython.com/python-kwargs-and-args/)\n"
   ]
  },
  {
   "cell_type": "markdown",
   "metadata": {
    "id": "cZoFR1BlpM6o"
   },
   "source": [
    "### Instalar librerias externas"
   ]
  },
  {
   "cell_type": "markdown",
   "metadata": {
    "id": "cz3oExGGpM6p"
   },
   "source": [
    "Habra ocasiones en las cuales querramos usar librerias creadas por otras personas o organizaciones que no vienen por defecto incluidas en el modulo base de Python. \n",
    "\n",
    "Los entornos (como collab) que tienen instalado python, en general, también tienen instalado un software que se llama python-pip. Este nos permite ejecutar el comando `pip` para descargar librerías desde PyPI.\n",
    "Para mas informacion acerca de qué es y cómo funciona `pip` consultar el siguiente [link](https://ubunlog.com/pip-conceptos-administracion-paquetes/).<br>\n",
    "*Si usted deseara correr esto en su computadora local, debera instalar PIP luego de haber instalado Python.*"
   ]
  },
  {
   "cell_type": "code",
   "execution_count": null,
   "metadata": {
    "id": "WrLEL5xjpM6p"
   },
   "outputs": [],
   "source": [
    "#Ejemplo de pip install\n",
    "!pip install seaborn==0.9.0"
   ]
  },
  {
   "cell_type": "markdown",
   "metadata": {
    "id": "bKNunOmPpM6q"
   },
   "source": [
    " ### Entornos virtuales"
   ]
  },
  {
   "cell_type": "markdown",
   "metadata": {
    "id": "2d71iGGPpM6q"
   },
   "source": [
    "Si no deseamos instalar librerias en nuestra computadora de forma local podemos crear un entorno virtual en el cual instalemos todas estas librerias. Un entorno virtual es como una burbuja, en la cual todo lo que instalemos permanecera ahi, pero no podremos acceder desde afuera. Esto es conveniente cuando:\n",
    "- No queremos tener posibles conflictos entre diferentes librerias\n",
    "- Queremos replicar las condiciones de la maquina/server en la cual correremos nuestro proyecto para asegurarnos que corra sin problemas. \n",
    "\n",
    "Cómo crear y usar estos [entornos virtuales](https://docs.python.org/es/3/tutorial/venv.html)"
   ]
  },
  {
   "cell_type": "markdown",
   "metadata": {
    "id": "JsohHbM3pM6r"
   },
   "source": [
    "# 5.Manipulación de Archivos "
   ]
  },
  {
   "cell_type": "markdown",
   "metadata": {
    "id": "vB1QHzE7pM6r"
   },
   "source": [
    "En el punto anterior realizamos operaciones mediante instrucciones a la consola o `shell`. En este caso,  usamos un lenguaje llamado [Bash](https://en.wikipedia.org/wiki/Bash). Si bien es una herramienta útil, Python nos permite realizar las mismas tareas utilizando sus librerias. "
   ]
  },
  {
   "cell_type": "code",
   "execution_count": null,
   "metadata": {
    "id": "6wqOgz2YpM6r"
   },
   "outputs": [],
   "source": [
    "!mkdir archivo_pacientes\n",
    "for i in pacientes:\n",
    "    with open (f'./archivo_pacientes/{i}','a') as paciente:\n",
    "        paciente.write('Aca habría información real')"
   ]
  },
  {
   "cell_type": "markdown",
   "metadata": {
    "id": "2q7ZkcmspM6s"
   },
   "source": [
    "A continuación utilizaremos las librerías `os` u `shutil` para poder manipular nuestros archivos."
   ]
  },
  {
   "cell_type": "code",
   "execution_count": null,
   "metadata": {
    "id": "IpCnYIS3pM6s"
   },
   "outputs": [],
   "source": [
    "import os  # Importamos las librerias\n",
    "import shutil"
   ]
  },
  {
   "cell_type": "code",
   "execution_count": null,
   "metadata": {
    "id": "WaNS-8QepM6t",
    "outputId": "fd53ae2a-58ea-480d-c301-9b8f8f258464"
   },
   "outputs": [],
   "source": [
    "# os.listdir() va a devolvernos todos los files en esa carpeta. Esto es muy similar a nuestra variable `pacientes`\n",
    "archivos = os.listdir('./archivo_pacientes/')\n",
    "archivos[0]"
   ]
  },
  {
   "cell_type": "code",
   "execution_count": null,
   "metadata": {
    "id": "91pLO6h_pM6u"
   },
   "outputs": [],
   "source": [
    "# Crear una carpeta nueva\n",
    "os.mkdir('Carpeta nueva')"
   ]
  },
  {
   "cell_type": "code",
   "execution_count": null,
   "metadata": {
    "id": "wDJ-RYORpM6w",
    "outputId": "0d638c78-5fd7-489a-beec-e76a4501f823"
   },
   "outputs": [],
   "source": [
    "os.listdir()"
   ]
  },
  {
   "cell_type": "code",
   "execution_count": null,
   "metadata": {
    "id": "ZsoXnjPRpM6x",
    "outputId": "9eb9d39c-b70b-463f-bdb1-cdb3c8ffd43a"
   },
   "outputs": [],
   "source": [
    "# Remover una carpeta\n",
    "os.rmdir('Carpeta nueva')\n",
    "os.listdir()"
   ]
  },
  {
   "cell_type": "code",
   "execution_count": null,
   "metadata": {
    "id": "9Pivad9TpM6y",
    "outputId": "683c74d2-3aa1-4768-f484-320d6c0b80e9"
   },
   "outputs": [],
   "source": [
    "# mover un file a otro path\n",
    "shutil.move('./archivo_pacientes/' + archivos[0], \n",
    "            './')\n",
    "           \n",
    "os.listdir()"
   ]
  },
  {
   "cell_type": "markdown",
   "metadata": {
    "id": "Y8naoF1apM6z"
   },
   "source": [
    "**Ejercicio**\n",
    "\n",
    "En esta oportunidad vamos a usar todos nuestros conocimientos previos.\n",
    "La idea es crear 3 carpetas, una para pacientes menores de edad, otra para pacientes adultos y otra para pacientes en edad de jubilación.<br>\n",
    "Luego moveremos los archivos dentro de la carpeta `archivo_pacientes` a sus correspondientes carpetas. <br>\n",
    "\n",
    "*(pssst!... prueba de modificar la función que programamos antes para que temo un rango de edad en vez de un numero)*"
   ]
  },
  {
   "cell_type": "code",
   "execution_count": null,
   "metadata": {
    "id": "Wg0tIJHmpM6z"
   },
   "outputs": [],
   "source": [
    "def filtrador_rango (lista, lim_joven, lim_adulto):\n",
    "    '''\n",
    "    Filtrando por rango\n",
    "    :params lista: list\n",
    "    :params lim_joven: int\n",
    "    :params lim_adulto: int\n",
    "    :return: None\n",
    "    '''\n",
    "    #Creo las carpetas\n",
    "\n",
    "    # Dependiendo de la edad los asigno a una carpeta\n",
    "\n",
    "    print(f'{len(lista)} pacientes fuero reubicados en sus respectivas carpetas')\n",
    "    return "
   ]
  },
  {
   "cell_type": "code",
   "execution_count": null,
   "metadata": {
    "id": "TPAUf1gIpM60"
   },
   "outputs": [],
   "source": [
    "filtrador_rango(pacientes, 18, 65)"
   ]
  },
  {
   "cell_type": "markdown",
   "metadata": {
    "id": "doQylFB6pM62"
   },
   "source": [
    "---\n",
    "<br>\n",
    "\n",
    "#  Extra\n",
    "## Temas que veremos solo si tenemos más tiempo"
   ]
  },
  {
   "cell_type": "markdown",
   "metadata": {
    "id": "IDYqPAAOpM63"
   },
   "source": [
    "Para el curso 4 'Deep Learning con Python' trabajaremos con un dataset de imagenes de radiografías de torax llamado [PADCHEST](https://bimcv.cipf.es/bimcv-projects/padchest/#). Al momento de entrenar estos modelos de computer vision es una práctica habitual dividir las imagenes en diferentes carpetas dependiendo de algún atributo de interes. Ahora bien, qué hacemos cuando tenemos que re-organizar miles de archivos? La solución es automatizar esta tarea. Para eso utilizaremos las dos librerias que importamos recien.\n",
    "\n",
    "La carpeta `data/PADCHEST` tiene dos elementos:\n",
    "    - `png_files` : Una carpeta con todas las imagenes de este subdataset (el dataset original pesa aproximadamente 1 TB)\n",
    "    - `PADCHEST_chest_x_ray_images_labels_160K_01.02.19.csv` : Un csv que contiene metadata acerca de todas las imagenes de la base. \n",
    "    \n",
    "Vamos a dividir estas imagenes según la projección de la radiografia (AP/PA/lateral/oblicua, etc.). Para poder hacer esto usaremos la metadata para  asignarle la projección a cada imagen de nuestro dataset. Crearemos las carpetas correspondientes y moveremos las imagenes de nuestra carpeta `png_files` a su carpeta correspondiente."
   ]
  },
  {
   "cell_type": "code",
   "execution_count": null,
   "metadata": {
    "colab": {
     "base_uri": "https://localhost:8080/"
    },
    "id": "ZsDPbYfrpM63",
    "outputId": "444fe692-57cb-436b-b65b-53d68645b55f"
   },
   "outputs": [],
   "source": [
    "# Si estas usando este notebook desde Colab deberas habilitar a a Colab a que acceda a Drive\n",
    "from google.colab import drive\n",
    "drive.mount('/content/gdrive/',force_remount=True)"
   ]
  },
  {
   "cell_type": "code",
   "execution_count": null,
   "metadata": {
    "colab": {
     "base_uri": "https://localhost:8080/"
    },
    "id": "_WXUewrx22Z1",
    "outputId": "ba3fd948-d1f0-45c4-ab55-58f04636278e"
   },
   "outputs": [],
   "source": [
    "!ls"
   ]
  },
  {
   "cell_type": "markdown",
   "metadata": {
    "id": "cIqDWXbc-btR"
   },
   "source": [
    "Acceder a `shared with me` en tu Google Drive y con click derecho sobre la carpeta `Python_JIS_2020` seleccionar `Add Shorcut to Drive`"
   ]
  },
  {
   "cell_type": "code",
   "execution_count": null,
   "metadata": {
    "id": "QMJEU_dipM65"
   },
   "outputs": [],
   "source": [
    "# Chequear donde se guardó la carpeta del curso. Tu ubicación puede ser diferente\n",
    "PATH='/content/gdrive/My Drive/Hospital Italiano/Python_JIS_2020/PADCHEST/' # Directorio en el cual se encuentran nuestras imagenes. "
   ]
  },
  {
   "cell_type": "code",
   "execution_count": null,
   "metadata": {
    "colab": {
     "base_uri": "https://localhost:8080/",
     "height": 346
    },
    "id": "TvkUtygqpM66",
    "outputId": "e392e32b-ed0b-4d05-f58c-8ddfbd071d5a"
   },
   "outputs": [],
   "source": [
    "import pandas as pd # Veremos mas Pandas en el proximo curso\n",
    "df=pd.read_csv(PATH + 'padchest_metadata.csv') # Lee el csv con la metadata y lo asigna a una variable\n",
    "df.head(2) # Nos va a permitir ver las N primeras filas (5 por defecto) de nuestro dataset"
   ]
  },
  {
   "cell_type": "code",
   "execution_count": null,
   "metadata": {
    "colab": {
     "base_uri": "https://localhost:8080/"
    },
    "id": "ictFxKc_pM68",
    "outputId": "78a95d5b-e649-4184-8846-c32ad758ef52"
   },
   "outputs": [],
   "source": [
    "df.columns #Devuelve las columnas de nuestro dataset"
   ]
  },
  {
   "cell_type": "code",
   "execution_count": null,
   "metadata": {
    "colab": {
     "base_uri": "https://localhost:8080/"
    },
    "id": "qNQ0p3IipM6-",
    "outputId": "de039349-902b-44e2-dce4-ac583108a6f9"
   },
   "outputs": [],
   "source": [
    "pd.unique(df.Projection)  \n",
    "# Unique me permite ver las diferentes categorias/valores que tengo en una columna\n",
    "# Una forma alternativa de escribirlo es:  df.Projection.unique()"
   ]
  },
  {
   "cell_type": "markdown",
   "metadata": {
    "id": "KUdq6mrcAFht"
   },
   "source": [
    "## Atención!!\n",
    "El archivo con las imagenes se llama `6.zip`. Dado que es un Colab compartido no podemos permitir que todos los usuarios descrompriman las imagenes y manipulen los archivos. Por otro lado el dataset pesa 11 gb por lo que dependiendo de la quota de tu Drive quizas no sea posible descargarlo. De cualquier manera las cells ya estan corridas y te muestran cual sería el output\n",
    "\n",
    "### Sentite libre de descargarte la base y probar luego en tu computadora local. Si no deseas descargarla puedes continuar al proximo punto."
   ]
  },
  {
   "cell_type": "code",
   "execution_count": null,
   "metadata": {
    "id": "2AJImR7R4yvF"
   },
   "outputs": [],
   "source": [
    "# PATH_LOCAL = ....  ## El path a donde descargaste los datos\n",
    "# os.chdir(PATH_LOCAL)\n",
    "# os.mkdir('png_files')\n",
    "# !unzip -q 6.zip -d png_files"
   ]
  },
  {
   "cell_type": "code",
   "execution_count": null,
   "metadata": {
    "id": "2ZTnNq3RpM6-"
   },
   "outputs": [],
   "source": [
    "files_png=os.listdir(PATH_LOCAL + 'png_files/') \n",
    "print(f'Numero de archivos en png_files : {len(files_png)}')\n",
    "# Creamos una lista con todos los nombres de los archivos en mi carpeta `png_files`. Si queres ver esa lista descomenta la linea de abajo\n",
    "# files_png"
   ]
  },
  {
   "cell_type": "markdown",
   "metadata": {
    "id": "ZeUWVua7pM6_"
   },
   "source": [
    "Genial, ahora que tenemos los nombres de todos los archivos en nuestra carpeta necesitamos saber cuales son las diferentes projecciones de nuestro dataset para crear las carpetas correspondientes."
   ]
  },
  {
   "cell_type": "code",
   "execution_count": null,
   "metadata": {
    "id": "Aweu4ZBdpM6_",
    "outputId": "0f7fb058-0706-47df-ecf7-4489362fb887"
   },
   "outputs": [],
   "source": [
    "for orientacion in df.Projection.unique():\n",
    "    print('Orientación : ', orientacion)\n",
    "    try:\n",
    "        os.mkdir(PATH_LOCAL + orientacion)\n",
    "    except OSError: # Si la carpeta ya existe python devolvera un tipo de error (OSerror),\n",
    "        pass        # en ese caso no hara nada (pass)"
   ]
  },
  {
   "cell_type": "markdown",
   "metadata": {
    "id": "b4GXQwaLpM7A"
   },
   "source": [
    "Si chequeas en el file browser veras que las carpetas han sido creadas!<br>\n",
    "Ahora movamos las imagenes a sus respectivas carpetas"
   ]
  },
  {
   "cell_type": "code",
   "execution_count": null,
   "metadata": {
    "id": "Jh2XZjaqpM7A",
    "outputId": "f1d4c0bc-dd44-45dd-d927-d020376b6a39"
   },
   "outputs": [],
   "source": [
    "for orientacion in df.Projection.unique():\n",
    "    files_orientacion = df[df.Projection == orientacion]['ImageID']  # Guardamos los nombres delas imagenes para cada orientacion.\n",
    "    files_mover = set(files_orientacion).intersection(set(files_png)) \n",
    "    # Como ya vimos, los sets nos permiten realizar operaciones.\n",
    "    # En este caso, solo nos interesan los archivos que tenemos en nuestro dataset pequeño\n",
    "    print(f'N de archivos de modalidad {orientacion} a mover : {len(files_mover)}')\n",
    "    for file in files_mover:   # Movemos cada uno de los archivos. Esto tomara un tiempo\n",
    "        shutil.move(PATH_LOCAL + 'png_files' + '/' + file,\n",
    "                    PATH_LOCAL + orientacion + '/' + file)\n",
    "    if len(files_mover) == 0:\n",
    "        os.rmdir(PATH_LOCAL + orientacion)\n",
    "        print('Se removio la carpeta :', orientacion)"
   ]
  },
  {
   "cell_type": "markdown",
   "metadata": {
    "id": "DiDk_snyCeY3"
   },
   "source": [
    "## Si no queres descargar la base continua en este punto"
   ]
  },
  {
   "cell_type": "markdown",
   "metadata": {
    "id": "vaMh9NA-pM7B"
   },
   "source": [
    "Veamos cómo se ven nuestros archivos. Para eso usaremos la libreria `matplotlib` la cual usaremos en el siguiente módulo para plotear graficos. Se puede indagar mas acerca de esta libreria [aqui](https://matplotlib.org/tutorials/index.html)"
   ]
  },
  {
   "cell_type": "code",
   "execution_count": null,
   "metadata": {
    "colab": {
     "base_uri": "https://localhost:8080/",
     "height": 269
    },
    "id": "Mi3Mo51XpM7C",
    "outputId": "7460caa8-a1b1-4a09-9191-5ce33a63a259"
   },
   "outputs": [],
   "source": [
    "import matplotlib.image as mpimg  # Importa las librerias\n",
    "import matplotlib.pyplot as plt\n",
    "\n",
    "img=mpimg.imread(PATH + '167891152309007801413146488810821721572_zjetfk.png')  # Lee el archivo imagen\n",
    "imgplot = plt.imshow(img, cmap='gray') # \"crea\" una figura y representa la imagen en dos ejes (x,y)\n",
    "plt.show()  # Plotea la figura"
   ]
  },
  {
   "cell_type": "markdown",
   "metadata": {
    "id": "B3wr54-ApM7D"
   },
   "source": [
    "# 6. Programación Orientada a Objetos (OOP)"
   ]
  },
  {
   "cell_type": "markdown",
   "metadata": {
    "id": "onu-bhhfpM7D"
   },
   "source": [
    "La Programación Orientada a Objetos (POO u OOP por sus siglas en inglés), es un paradigma de programación. En este paradigma los programas se estructuran organizando el código en entidades llamadas objetos. ¿Por qué nos interesa hacer esto?\n",
    "Estos nos permiten encapsular data, funciones y variables dentro de una misma `clase`, facilitando una interfaz sencilla para operar y permitiendo modificar y reutilizar estas clases. Para una definición mas exhaustiva el lector puede consultar la [documentación](https://docs.python.org/es/3/tutorial/classes.html)."
   ]
  },
  {
   "cell_type": "markdown",
   "metadata": {
    "id": "aE9prLI-pM7D"
   },
   "source": [
    "### Elementos principales y terminología\n",
    "\n",
    "1. Una `clase` es un prototipo de objeto, cómo una especie de plantilla, sobre la cual se construirán nuestros `objetos`. Esta clase va a englobar los `atributos` que comparten en común todos los objetos de esa clase. \n",
    "\n",
    "2. Una `instancia` es una manera de referirse a un `objeto` en particular que pertenece a una `clase`. \n",
    "\n",
    "3. Los `atributos` o `propiedades` son variables asociadas a los objetos. Los atributos pueden ser de clase (toman el mismo valor para toda la clase) o de instancia (toman un valor diferente para cada instancia). Lo más común de utilizar son los atributos de instancia que reflejan estados de los objetos. Los atributos de clase se utilizan para que todos los objetos compartan por ejemplo, una misma constante, las mismas configuraciones o la misma conexión a una base de datos.Se acceden con un punto.\n",
    "\n",
    "4. Un `método` es una función, similar a las que vimos anteriormente, contenida dentro de un objeto. En otras palabras, ciertos objetos podrán realizar ciertas funciones.Se acceden con un punto.\n",
    "\n",
    "5. Podemos decir que una `clase`, es la lógica abstracta de un objeto, es decir un concepto, mientras que el `objeto`, es su materialización. Cuando creamos un `objeto` estamos instanciando una clase. Entonces, un `objeto` es una instancia única con una estructura definida por su clase. Posee de `atributos` variables de clase, de instancia y `métodos`.\n",
    "\n",
    "6. La herencia es la transferencia de atributos de una clase a otra clase.\n",
    "\n",
    "\n"
   ]
  },
  {
   "cell_type": "markdown",
   "metadata": {
    "id": "dJ18IF7epM7D"
   },
   "source": [
    "### Creemos nuestra primera clase\n",
    "En este caso, nos interesaria usar lo que ya aprendimos para crear una clase que nos sea útil en algún contexto específico. Supongamos que queremos crear una clase `Paciente` en la cual tendremos diferentes `propiedades` y `metodos`. Para eso empezaremos con algo más sencillo, crearemos una clase general denominada `Persona`."
   ]
  },
  {
   "cell_type": "code",
   "execution_count": null,
   "metadata": {
    "id": "4Ml4JDAmpM7D"
   },
   "outputs": [],
   "source": [
    "class Persona(): # la palabra reservada `class` le dice a python que vamos a definir una clase de nombre Persona\n",
    "    def __init__(self, nombre, apellido, fecha_nacimiento): \n",
    "        self.nombre = nombre\n",
    "        self.apellido = apellido\n",
    "        self.fecha_nacimiento = fecha_nacimiento"
   ]
  },
  {
   "cell_type": "markdown",
   "metadata": {
    "id": "48f4U-Y_pM7H"
   },
   "source": [
    " `__init__` es un metodo reservado (por eso el doble guión bajo). Este método se llama cuando se instancia una clase (es decir se crea un Objeto). Es ahí cuando se inicializan los atributos de la clase con los parametros que nosotros le pasemos. <br>\n",
    " El primer parametro siempre es el termino reservado `self` que indica que los atributos y metodos vas a ser propios de el objeto que estamos intanciando. Veamoslo en funcionamiento:"
   ]
  },
  {
   "cell_type": "code",
   "execution_count": null,
   "metadata": {
    "colab": {
     "base_uri": "https://localhost:8080/",
     "height": 35
    },
    "id": "lHV-T49JpM7J",
    "outputId": "ad076ed1-69de-4f36-b00a-e7892885ae8a"
   },
   "outputs": [],
   "source": [
    "persona_1 = Persona('Joaquin','Menendez','25/03/1991')\n",
    "persona_1.apellido # Podemos acceder a los atributos del objeto utilizando `.atributo`"
   ]
  },
  {
   "cell_type": "markdown",
   "metadata": {
    "id": "cWaRxAFrpM7M"
   },
   "source": [
    "### Crear un metodo"
   ]
  },
  {
   "cell_type": "markdown",
   "metadata": {
    "id": "SJWDxoxspM7N"
   },
   "source": [
    "Vamos a crear una `metodo` que nos permita saber la edad de esta persona al día de la fecha. Para eso usaremos el modulo `datetime`. Para acceder a mas información acerca de los diferentes formatos posibles puede consultarlo [aquí](https://strftime.org/)\n",
    "\n"
   ]
  },
  {
   "cell_type": "code",
   "execution_count": null,
   "metadata": {
    "id": "adMaq5_7pM7N"
   },
   "outputs": [],
   "source": [
    "from datetime import datetime # importamos los modulos que vamos a usar\n",
    "from dateutil.relativedelta import relativedelta\n",
    "\n",
    "class Persona(): # Vamos a re-escribir nuestra clase\n",
    "    def __init__(self, nombre, apellido, fecha_nacimiento): \n",
    "        self.nombre = nombre\n",
    "        self.apellido = apellido\n",
    "        self.fecha_nacimiento = fecha_nacimiento\n",
    "        \n",
    "    def edad_hoy(self):\n",
    "        fecha_nacimiento = datetime.strptime(self.fecha_nacimiento,'%d/%m/%Y')\n",
    "        fecha_hoy = datetime.today()\n",
    "        anios = relativedelta(fecha_hoy,fecha_nacimiento)\n",
    "        return  anios.years"
   ]
  },
  {
   "cell_type": "code",
   "execution_count": null,
   "metadata": {
    "id": "ErUpn1mYpM7Q"
   },
   "outputs": [],
   "source": [
    "persona_2 = Persona('Joaquin','Menendez','25/03/1991')"
   ]
  },
  {
   "cell_type": "markdown",
   "metadata": {
    "id": "OZLNMHAED93Q"
   },
   "source": [
    "¿Qué pasaría si corremos el método `edad_hoy` para `persona_1`?"
   ]
  },
  {
   "cell_type": "code",
   "execution_count": null,
   "metadata": {
    "colab": {
     "base_uri": "https://localhost:8080/",
     "height": 167
    },
    "id": "AEieFDfWpM7W",
    "outputId": "b6340308-2eff-4157-a440-48fdf5a63b33"
   },
   "outputs": [],
   "source": [
    "persona_1.edad_hoy()"
   ]
  },
  {
   "cell_type": "markdown",
   "metadata": {
    "id": "XP2SvdWnpM7c"
   },
   "source": [
    "Vemos como `persona_1` al ser instanciado o construido con una clase vieja no posee el nuevo `método` que creamos."
   ]
  },
  {
   "cell_type": "code",
   "execution_count": null,
   "metadata": {
    "colab": {
     "base_uri": "https://localhost:8080/"
    },
    "id": "X3IDGJa8pM7T",
    "outputId": "64b2bb28-c74a-4602-aacc-71b7bbcc1133"
   },
   "outputs": [],
   "source": [
    "persona_2.edad_hoy()"
   ]
  },
  {
   "cell_type": "markdown",
   "metadata": {
    "id": "C9QOIbrkpM7d"
   },
   "source": [
    "### Heredar atributos de otra clase"
   ]
  },
  {
   "cell_type": "markdown",
   "metadata": {
    "id": "eoNzs__wpM7e"
   },
   "source": [
    "Vamos a usar los atributos de nuestra clase `Persona` para construir una nueva clase denominada `Paciente`. Esta clase contara con todos los atributos y méetodos (en este caso solo `edad_hoy`)."
   ]
  },
  {
   "cell_type": "code",
   "execution_count": null,
   "metadata": {
    "id": "IxOLuhDypM7e"
   },
   "outputs": [],
   "source": [
    "class Paciente(Persona):\n",
    "    # En caso de que te hayas descargado la base reemplaza la `PATH` por `PATH_LOCAL`\n",
    "    PATH = PATH  # En un caso mas real prefeririamos que esto sea una base de datos y no un directorio local.\n",
    "    \n",
    "    def __init__(self, PatientID, **kwargs):  # Vamos a pasar los atributos de la clase madre en forma de kwargs (diccionario)\n",
    "        self.PatientID = PatientID \n",
    "        super().__init__(**kwargs) # agrego el resto de los atributos usando el formato __init__ de la clase madre.\n",
    "    \n",
    "    def edad_hoy(self):\n",
    "        return super().edad_hoy() # Uso el metodo/funcion declarado en la clase madre\n",
    "    \n",
    "    def mostrar_imagen(self):  # Este caso es ilustrativo. En la vida real no seria buena idea asignar los valores a un DataFrame local, sino re-leerlo desde una base de datos\n",
    "        imageID = df[df.PatientID == self.PatientID].ImageID.values\n",
    "        projection = df[df.PatientID == self.PatientID].Projection.values\n",
    "        try: \n",
    "            image_path = f'{PATH}{projection[0]}/{imageID[0]}'\n",
    "            img = mpimg.imread(image_path)  # Lee el archivo imagen\n",
    "        except:\n",
    "            image_path = f'{PATH}/{imageID[0]}'\n",
    "            img = mpimg.imread(image_path)  # Lee el archivo imagen\n",
    "        \n",
    "        plt.imshow(img, cmap='gray') # \"crea\" una figura y representa la imagen en dos ejes (x,y)\n",
    "        plt.title(f'ID : {self.PatientID}\\n({self.apellido}, {self.nombre})') \n",
    "        plt.show()  # Plotea la figura\n",
    "        "
   ]
  },
  {
   "cell_type": "markdown",
   "metadata": {
    "id": "rrlR83AxpM7h"
   },
   "source": [
    "Vamos a seleccionar un sujeto de nuestro dataset y vamos a instanciar un objeto de nuestra nueva clase."
   ]
  },
  {
   "cell_type": "code",
   "execution_count": null,
   "metadata": {
    "colab": {
     "base_uri": "https://localhost:8080/",
     "height": 164
    },
    "id": "uEWBtLh2pM7i",
    "outputId": "b3add2b2-92f1-44e0-e087-e2aa771f983c"
   },
   "outputs": [],
   "source": [
    "# Vamos a trabajar con un solo caso\n",
    "df_small = df[df.ImageID == '167891152309007801413146488810821721572_zjetfk.png']\n",
    "df_small"
   ]
  },
  {
   "cell_type": "code",
   "execution_count": null,
   "metadata": {
    "colab": {
     "base_uri": "https://localhost:8080/"
    },
    "id": "YEnVaB0rFiFc",
    "outputId": "bed61b35-ae8b-44e5-ded8-7e7a33ce3658"
   },
   "outputs": [],
   "source": [
    "df_small.PatientID"
   ]
  },
  {
   "cell_type": "code",
   "execution_count": null,
   "metadata": {
    "id": "XEtTQ2EipM7p"
   },
   "outputs": [],
   "source": [
    "paciente1 = Paciente('142282708820270177808766726066495395635', nombre='Joaquin',apellido='Menendez',fecha_nacimiento='25/03/1990')"
   ]
  },
  {
   "cell_type": "code",
   "execution_count": null,
   "metadata": {
    "colab": {
     "base_uri": "https://localhost:8080/"
    },
    "id": "Op1Ded75pM7t",
    "outputId": "6cf0ff8f-5679-4c1c-9e20-3d99bc4a636f"
   },
   "outputs": [],
   "source": [
    "type(paciente1) "
   ]
  },
  {
   "cell_type": "markdown",
   "metadata": {
    "id": "yv-on7UhpM70"
   },
   "source": [
    "Vemos que el tipo no es \"prolijo\" como cuando lo usamos con otros objetos por defecto en Python. Esto se debe a que nosotros no definimos (todavía) como queremos que la función `type` represente esto. Esto escapa el enfoque de esta introducción, pero pueden consultarlo [aquí.](https://docs.python.org/3/tutorial/classes.html)"
   ]
  },
  {
   "cell_type": "markdown",
   "metadata": {
    "id": "OUA9XQrMpM71"
   },
   "source": [
    "Probemos un metodo heredado de nuestra clase `Persona` en nuestra nueva clase"
   ]
  },
  {
   "cell_type": "code",
   "execution_count": null,
   "metadata": {
    "colab": {
     "base_uri": "https://localhost:8080/"
    },
    "id": "LuB9iv1DpM71",
    "outputId": "7fa700de-331b-4e0a-d117-546b289fbf07"
   },
   "outputs": [],
   "source": [
    "paciente1.edad_hoy()"
   ]
  },
  {
   "cell_type": "markdown",
   "metadata": {
    "id": "B69ur32OpM74"
   },
   "source": [
    "Ahora veremos si nuestro nuevo metodo tambien funciona."
   ]
  },
  {
   "cell_type": "code",
   "execution_count": null,
   "metadata": {
    "colab": {
     "base_uri": "https://localhost:8080/",
     "height": 296
    },
    "id": "fMdSysv3pM74",
    "outputId": "49e38bd2-e9bd-4cc9-edcc-414c5d18302a"
   },
   "outputs": [],
   "source": [
    "paciente1.mostrar_imagen()"
   ]
  }
 ],
 "metadata": {
  "colab": {
   "collapsed_sections": [],
   "name": "Curso_1.ipynb",
   "provenance": []
  },
  "kernelspec": {
   "display_name": "Python 3",
   "language": "python",
   "name": "python3"
  },
  "language_info": {
   "codemirror_mode": {
    "name": "ipython",
    "version": 3
   },
   "file_extension": ".py",
   "mimetype": "text/x-python",
   "name": "python",
   "nbconvert_exporter": "python",
   "pygments_lexer": "ipython3",
   "version": "3.7.4"
  },
  "toc-autonumbering": false,
  "toc-showcode": false,
  "toc-showmarkdowntxt": false
 },
 "nbformat": 4,
 "nbformat_minor": 4
}
