{
 "cells": [
  {
   "cell_type": "markdown",
   "metadata": {
    "colab_type": "text",
    "id": "view-in-github"
   },
   "source": [
    "<a href=\"https://colab.research.google.com/github/joaquinmenendez/curso_phyton/blob/master/Propuesta_curso.ipynb\" target=\"_parent\"><img src=\"https://colab.research.google.com/assets/colab-badge.svg\" alt=\"Open In Colab\"/></a>"
   ]
  },
  {
   "cell_type": "markdown",
   "metadata": {
    "colab_type": "text",
    "id": "OY4hYTN96B0t"
   },
   "source": [
    "#  Introducción a Python para ciencia de datos e IA\n",
    "Docentes a cargo: Joaquín Menéndez; Fernando Binder\n",
    "\n",
    "## Temas\n",
    "1. Python. \n",
    "    - Qué es?\n",
    "    - Cómo instalarlo?\n",
    "    - Notebooks y IDE (Integrated Development Enviroment)\n",
    "2. Tipos de datos y estructuras de datos.\n",
    "    - **int**, **float**, **string**, **bool**\n",
    "    - **list**, **tuple**, **dictionary** , **set**\n",
    "3. Condicionales y Bucles (o loops)\n",
    "    - **if**\n",
    "    - **for** y **where**\n",
    "4. Funciones \n",
    "    - Importar librerias\n",
    "    - Instalar librerias\n",
    "    - Entornos virtuales o `Virtualenv`\n",
    "5. Manipulación de Archivos en Python\n",
    "    - `os`, `shutil` y `magic methods`\n",
    "6. Programación Orientada a Objeto (OOP)\n",
    "    - Definir una clase\n",
    "    - Metodos de clase\n",
    "    - Herencia de clase"
   ]
  },
  {
   "cell_type": "markdown",
   "metadata": {
    "colab_type": "text",
    "id": "IyLi10hw4Me1"
   },
   "source": [
    "## Links útiles\n",
    "- [Anaconda](https://www.anaconda.com/products/individual)\n",
    "- [Google Colab](https://colab.research.google.com/)\n",
    "- [2 meses grátis de Datacamp](https://docs.microsoft.com/en-us/visualstudio/subscriptions/vs-datacamp)\n",
    "- [StackOverflow](https://stackoverflow.com/)\n",
    "- [Python (documentación)](https://python-reference.readthedocs.io/en/latest/index.html#)\n",
    "- [Slicing](https://python-reference.readthedocs.io/en/latest/docs/brackets/slicing.html)\n",
    "\n"
   ]
  },
  {
   "cell_type": "markdown",
   "metadata": {
    "colab_type": "text",
    "id": "VZjiJwOeK2Ut"
   },
   "source": [
    "# 1. Python"
   ]
  },
  {
   "cell_type": "markdown",
   "metadata": {
    "colab_type": "text",
    "id": "F7K02jyGLHNf"
   },
   "source": [
    "**Primero que nada...¿Qué es Python?**\n",
    "\n",
    "Python es un lenguaje de programación interpretado de tipado dinámico cuya filosofía hace hincapié en una sintaxis que favorezca un código legible. Se trata de un lenguaje de programación multiparadigma y disponible en varias plataformas.\n",
    "\n",
    "En criollo, Python es:\n",
    "\n",
    "- Interpretado: Se ejecuta sin necesidad de ser procesado por un compilador y se detectan los errores en tiempo de ejecución.\n",
    "- Multiparadigma: Soporta diferentes tipos de programación, Ej: funcional, imperativa y orientada a objetos. En este curso veremos principalmente las dos primeras, pero siempre estaremos interactuando con objetos. Un poco de esto más adelante.\n",
    "- Tipado dinámico: Las variables se comprueban en tiempo de ejecución. No es necesario definir qué tipo de datos vana contener nuestras variables. Si alguna vez programas en C, C++ o Java (te compadezco) tendras experiencia con esto.\n",
    "- Multiplataforma: disponible para plataformas de Windows, Linux o MAC.\n",
    "- Gratuito: Otros lenguajes como MATLAB requieren licencias pagas.\n",
    "\n",
    "\n",
    "**¿Por qué Python?**\n",
    "- Elegante, sencillo, fácil de aprender\n",
    "- Una gran comunidad, abundante documentacion y ejemplos\n",
    "- La mayoria del estado del arte en Machine Learning, Deep Learning y Data Science es en este lenguaje"
   ]
  },
  {
   "cell_type": "markdown",
   "metadata": {},
   "source": [
    "**¿Cómo empiezo a usarlo?**\n",
    "\n",
    "Hay muchas formas en que uno puede programar. Algunas personas disfrutan haciendo todo desde la consola, usando algun software como [EMACS](https://www.tldp.org/HOWTO/Emacs-Beginner-HOWTO-2.html).<br>\n",
    "Otras personas disfrutan programando exclusivamente en notebooks como la que estas viendo ahora.<br>\n",
    "Otros disfrutan usando un IDE (Integrated development environment). <br>\n",
    "Si no tenes experiencia prevía recomendamos empezar con esta última opción.<br>"
   ]
  },
  {
   "cell_type": "markdown",
   "metadata": {
    "colab_type": "text",
    "id": "gD__fvLINdFu"
   },
   "source": [
    "**Ejemplos de IDE :**\n",
    "- Pycharm\n",
    "![img](https://raw.githubusercontent.com/joaquinmenendez/curso_phyton/master/images/pycharm.png)"
   ]
  },
  {
   "cell_type": "markdown",
   "metadata": {
    "colab_type": "text",
    "id": "zDB7NQCcLGY8"
   },
   "source": [
    "- Spyder\n",
    "![img](https://raw.githubusercontent.com/joaquinmenendez/curso_phyton/master/images/spyder.png)"
   ]
  },
  {
   "cell_type": "markdown",
   "metadata": {},
   "source": [
    "- Jupyter Notebook \n",
    "\n",
    "Esto es una _notebook_ del entorno Jupyter (en este caso usamos Google Colaboratory, una versión online gratuita).\n",
    "\n",
    "Cada una de estas _celdas_ funciona como un bloque donde podemos escribir texto plano, Latex, HTML, además de ejecutar código Python, R, bash y otros. "
   ]
  },
  {
   "cell_type": "markdown",
   "metadata": {},
   "source": [
    "$$ \\text{Esto esta escrito en } \\LaTeX{}$$\n",
    "$$\\sum{x^2 + \\sqrt{\\dfrac{1}{9}}} $$"
   ]
  },
  {
   "cell_type": "code",
   "execution_count": null,
   "metadata": {},
   "outputs": [],
   "source": [
    "print('Esta celda ejecuta Python!!!')"
   ]
  },
  {
   "cell_type": "code",
   "execution_count": null,
   "metadata": {},
   "outputs": [],
   "source": [
    "#Esto es un comentario. Python no reconoce nada de lo que aparece a la derecha de un #"
   ]
  },
  {
   "cell_type": "markdown",
   "metadata": {},
   "source": [
    "Jupyter Notebooks es una interfaz incluida en la instalación de Python ampliamente usada para Data Science. Si queres descargar todo lo necesario para empezar a usar Python y demas podes sencillamente instalar el gestionador de enviroments [Anaconda](https://www.anaconda.com/products/individual\"/) el cual se encarga de instalar todo por vos. "
   ]
  },
  {
   "cell_type": "markdown",
   "metadata": {
    "colab_type": "text",
    "id": "bdMMEBheOBBv"
   },
   "source": [
    "# 2. Tipos de datos o variables\n"
   ]
  },
  {
   "cell_type": "markdown",
   "metadata": {
    "colab_type": "text",
    "id": "X---XJI5u1gK"
   },
   "source": [
    "### Tipos mas comunes de variables"
   ]
  },
  {
   "cell_type": "code",
   "execution_count": 1,
   "metadata": {
    "colab": {},
    "colab_type": "code",
    "id": "mB0WqNdOLXfP"
   },
   "outputs": [],
   "source": [
    "# String\n",
    "var1 = 'Esto es una string'\n",
    "\n",
    "# Numeric\n",
    "## Integer\n",
    "var2 = 5\n",
    "## Float (o numerico de precision)\n",
    "var3 = 5.1\n",
    "\n",
    "## Boolean (o valores lógicos)\n",
    "var4 = True"
   ]
  },
  {
   "cell_type": "code",
   "execution_count": 2,
   "metadata": {
    "colab": {
     "base_uri": "https://localhost:8080/",
     "height": 34
    },
    "colab_type": "code",
    "id": "4OpKpzX9Lugg",
    "outputId": "d73d995c-0f57-40ae-ea7c-20d6ca17cbbb"
   },
   "outputs": [
    {
     "data": {
      "text/plain": [
       "('Esto es una string', 5, 5.1, True)"
      ]
     },
     "execution_count": 2,
     "metadata": {},
     "output_type": "execute_result"
    }
   ],
   "source": [
    "var1, var2, var3, var4"
   ]
  },
  {
   "cell_type": "markdown",
   "metadata": {
    "colab_type": "text",
    "id": "MuWZdLrBL05_"
   },
   "source": [
    "Es importante conocer los types de nuestras variables porque todo es un Objeto o Clase en python. Este concepto es un poco mas avanzado, y no vamos a indagar mucho en este curso, pero la idea principal es que objetos diferentes van a poder hacer cosas distintas. Y dado que cada tipo de variable es una `clase` diferente de objeto van a tener diferentes propiedades o `metodos`. Las palabras que aparecen `asi` son conceptos técnicos, o a veces referirán a nombres de variables.\n",
    "\n",
    "Si queres saber un poco más acerca de qué es esto de ['Todo es un Objeto'](https://es.wikibooks.org/wiki/Python/Su_primer_programa_en_Python/%C2%BFQu%C3%A9_es_un_objeto%3F#:~:text=Todo%20en%20Python%20es%20un,todo%20tiene%20atributos%20y%20m%C3%A9todos.&text=Los%20diferentes%20lenguajes%20de%20programaci%C3%B3n,los%20objetos%20pueden%20tener%20subclases.)"
   ]
  },
  {
   "cell_type": "code",
   "execution_count": 3,
   "metadata": {
    "colab": {
     "base_uri": "https://localhost:8080/",
     "height": 35
    },
    "colab_type": "code",
    "id": "2stqQP1zLv5Y",
    "outputId": "7c7b19ba-bf81-43fc-b8e8-60525e6ec3b2"
   },
   "outputs": [
    {
     "data": {
      "text/plain": [
       "'ESTO ES UNA STRING'"
      ]
     },
     "execution_count": 3,
     "metadata": {},
     "output_type": "execute_result"
    }
   ],
   "source": [
    "# Ej: Métodos para nuestros distintos tipos de variables \n",
    "var1.upper()"
   ]
  },
  {
   "cell_type": "code",
   "execution_count": 4,
   "metadata": {
    "colab": {
     "base_uri": "https://localhost:8080/",
     "height": 163
    },
    "colab_type": "code",
    "id": "pbFOmFQoMONX",
    "outputId": "9490bf26-3bdb-44da-8305-6a26d9e510f5"
   },
   "outputs": [
    {
     "ename": "AttributeError",
     "evalue": "'int' object has no attribute 'upper'",
     "output_type": "error",
     "traceback": [
      "\u001b[1;31m---------------------------------------------------------------------------\u001b[0m",
      "\u001b[1;31mAttributeError\u001b[0m                            Traceback (most recent call last)",
      "\u001b[1;32m<ipython-input-4-f40acc44bd23>\u001b[0m in \u001b[0;36m<module>\u001b[1;34m\u001b[0m\n\u001b[0;32m      1\u001b[0m \u001b[1;31m# Qué pasa si queremos hacer lo mismo con un Integer???\u001b[0m\u001b[1;33m\u001b[0m\u001b[1;33m\u001b[0m\u001b[1;33m\u001b[0m\u001b[0m\n\u001b[1;32m----> 2\u001b[1;33m \u001b[0mvar2\u001b[0m\u001b[1;33m.\u001b[0m\u001b[0mupper\u001b[0m\u001b[1;33m(\u001b[0m\u001b[1;33m)\u001b[0m\u001b[1;33m\u001b[0m\u001b[1;33m\u001b[0m\u001b[0m\n\u001b[0m",
      "\u001b[1;31mAttributeError\u001b[0m: 'int' object has no attribute 'upper'"
     ]
    }
   ],
   "source": [
    "# Qué pasa si queremos hacer lo mismo con un Integer???\n",
    "var2.upper() "
   ]
  },
  {
   "cell_type": "code",
   "execution_count": 5,
   "metadata": {
    "colab": {
     "base_uri": "https://localhost:8080/",
     "height": 34
    },
    "colab_type": "code",
    "id": "lkrn2ntEYRag",
    "outputId": "6c6d13fa-0eb7-45ae-f6c2-baecf9524dbb"
   },
   "outputs": [
    {
     "data": {
      "text/plain": [
       "10.1"
      ]
     },
     "execution_count": 5,
     "metadata": {},
     "output_type": "execute_result"
    }
   ],
   "source": [
    "# Podemos sumar integers y float. Esto tiene sentido ya que ambos son numeros.\n",
    "var2 + var3"
   ]
  },
  {
   "cell_type": "code",
   "execution_count": 6,
   "metadata": {
    "colab": {
     "base_uri": "https://localhost:8080/",
     "height": 34
    },
    "colab_type": "code",
    "id": "_dZyOcM3YVQG",
    "outputId": "3b1a1843-1992-49af-f6e1-2dba8756cbf6"
   },
   "outputs": [
    {
     "data": {
      "text/plain": [
       "False"
      ]
     },
     "execution_count": 6,
     "metadata": {},
     "output_type": "execute_result"
    }
   ],
   "source": [
    "# Cambiemos el True por False. Tan sencillo como:\n",
    "not(var4)"
   ]
  },
  {
   "cell_type": "markdown",
   "metadata": {
    "colab_type": "text",
    "id": "dW-QyHT7MTmb"
   },
   "source": [
    "Como vemos cada tipo va a tener diferentes funciones asociadas. No podemos realizar las mismas operaciones con una variable numerica que con un string por ejemplo. Para ver con mas detalle las diferentes funciones asociados con los tipos de variables consultar la documentacion [link](https://python-reference.readthedocs.io/en/latest/basic_data_types.html)"
   ]
  },
  {
   "cell_type": "markdown",
   "metadata": {
    "colab_type": "text",
    "id": "8SsiQZciKEM3"
   },
   "source": [
    "### Operadores\n",
    "\n",
    "Si bien los tipos de variable booleans admiten solamente dos valores (True o False), hay una serie de operadores que vamos a poder utilizar (dependiendo el tipo de variable) para realizar una evaluacion lógica, arrojando como resultado un valor de verdad, o en otras palabras, un boolean. \n",
    "\n",
    "Los operadores disponibles son:\n",
    "Relacionales (aplicable a tipos de variable no booleanas):\n",
    "\n",
    "- \\>= , <=, <, > : Mayor o igual, menor o igual, mayor o menor\n",
    "- != , == : Distinto, Igual\n",
    "- in : Contenido en (dentro de)\n",
    "\n",
    "Lógicos (aplicable solo a variables booleanas):\n",
    "- not o ~ : Negación\n",
    "- and o & : Ambas verdaderas\n",
    "- or o | : Una u otra es verdadera\n",
    "\n",
    "\n"
   ]
  },
  {
   "cell_type": "code",
   "execution_count": 7,
   "metadata": {
    "colab": {
     "base_uri": "https://localhost:8080/",
     "height": 34
    },
    "colab_type": "code",
    "id": "6Hw4eI73LQad",
    "outputId": "bd39df1a-0af1-4e46-8a07-9026c5ef1d5e"
   },
   "outputs": [
    {
     "data": {
      "text/plain": [
       "False"
      ]
     },
     "execution_count": 7,
     "metadata": {},
     "output_type": "execute_result"
    }
   ],
   "source": [
    "5 > 6"
   ]
  },
  {
   "cell_type": "code",
   "execution_count": 8,
   "metadata": {
    "colab": {
     "base_uri": "https://localhost:8080/",
     "height": 34
    },
    "colab_type": "code",
    "id": "hkZrCIELLbFE",
    "outputId": "cecb70b6-0a34-4db7-c941-f2975b5a5be0"
   },
   "outputs": [
    {
     "data": {
      "text/plain": [
       "True"
      ]
     },
     "execution_count": 8,
     "metadata": {},
     "output_type": "execute_result"
    }
   ],
   "source": [
    "'VARIABLE' == 'VARIABLE'"
   ]
  },
  {
   "cell_type": "code",
   "execution_count": 9,
   "metadata": {
    "colab": {
     "base_uri": "https://localhost:8080/",
     "height": 34
    },
    "colab_type": "code",
    "id": "86f0NUqPLiNT",
    "outputId": "a005ff7c-2192-4359-e631-5cc359e13022"
   },
   "outputs": [
    {
     "data": {
      "text/plain": [
       "True"
      ]
     },
     "execution_count": 9,
     "metadata": {},
     "output_type": "execute_result"
    }
   ],
   "source": [
    "1.0 in [1.0, 2.0 , 3.0]"
   ]
  },
  {
   "cell_type": "code",
   "execution_count": 10,
   "metadata": {
    "colab": {
     "base_uri": "https://localhost:8080/",
     "height": 34
    },
    "colab_type": "code",
    "id": "0GQ8NPeMLz8c",
    "outputId": "04a24e70-d83d-423d-fd5c-5ac6f05b06c9"
   },
   "outputs": [
    {
     "data": {
      "text/plain": [
       "False"
      ]
     },
     "execution_count": 10,
     "metadata": {},
     "output_type": "execute_result"
    }
   ],
   "source": [
    "True and False"
   ]
  },
  {
   "cell_type": "code",
   "execution_count": 11,
   "metadata": {
    "colab": {
     "base_uri": "https://localhost:8080/",
     "height": 34
    },
    "colab_type": "code",
    "id": "uvjzgu7nL4Yb",
    "outputId": "5e2f7145-0d39-4ebe-cf60-1fad6e6f893e"
   },
   "outputs": [
    {
     "data": {
      "text/plain": [
       "False"
      ]
     },
     "execution_count": 11,
     "metadata": {},
     "output_type": "execute_result"
    }
   ],
   "source": [
    "(5 > 4) and (5 > 6)"
   ]
  },
  {
   "cell_type": "markdown",
   "metadata": {
    "colab_type": "text",
    "id": "wN5_JsHXJ2p-"
   },
   "source": [
    "### Palabras reservadas"
   ]
  },
  {
   "cell_type": "code",
   "execution_count": 12,
   "metadata": {
    "colab": {
     "base_uri": "https://localhost:8080/",
     "height": 34
    },
    "colab_type": "code",
    "id": "BHFwZqfil2f_",
    "outputId": "7a98a808-4c77-4f30-af76-d45a4feecb31"
   },
   "outputs": [
    {
     "data": {
      "text/plain": [
       "str"
      ]
     },
     "execution_count": 12,
     "metadata": {},
     "output_type": "execute_result"
    }
   ],
   "source": [
    "type(var1)"
   ]
  },
  {
   "cell_type": "markdown",
   "metadata": {
    "colab_type": "text",
    "id": "gi0LCTUVl-6f"
   },
   "source": [
    "`type` es una `palabra reservada` de Python. Esto quiere decir que es una `función` que vienen por defecto en el paquete standard de Python.<br>\n",
    "Lista de palabras reservadas: \n",
    ">['False', 'None', 'True', 'and', 'as', 'assert', 'async', 'await', 'break', 'class', 'continue', 'def', 'del', 'elif', 'else', 'except', 'finally', 'for', 'from', 'global', 'if', 'import', 'in', 'is', 'lambda', 'nonlocal', 'not', 'or', 'pass', 'raise', 'return', 'try', 'while', 'with', 'yield']"
   ]
  },
  {
   "cell_type": "code",
   "execution_count": 13,
   "metadata": {
    "colab": {
     "base_uri": "https://localhost:8080/",
     "height": 357
    },
    "colab_type": "code",
    "id": "zwbc_QEtmsuh",
    "outputId": "eafe957b-0c1e-4a1e-d464-2dcd02caada8"
   },
   "outputs": [
    {
     "name": "stdout",
     "output_type": "stream",
     "text": [
      "Help on built-in function print in module builtins:\n",
      "\n",
      "print(...)\n",
      "    print(value, ..., sep=' ', end='\\n', file=sys.stdout, flush=False)\n",
      "    \n",
      "    Prints the values to a stream, or to sys.stdout by default.\n",
      "    Optional keyword arguments:\n",
      "    file:  a file-like object (stream); defaults to the current sys.stdout.\n",
      "    sep:   string inserted between values, default a space.\n",
      "    end:   string appended after the last value, default a newline.\n",
      "    flush: whether to forcibly flush the stream.\n",
      "\n"
     ]
    }
   ],
   "source": [
    "# help es una funcion incorporada que nos permite acceder a la documentacion de diversas funciones. \n",
    "# En la celda 2 usamos una de estas palabras reservadas, vamos a ver que dice la documentación\n",
    "help(print)"
   ]
  },
  {
   "cell_type": "code",
   "execution_count": 14,
   "metadata": {},
   "outputs": [
    {
     "data": {
      "text/plain": [
       "\u001b[1;31mType:\u001b[0m        str\n",
       "\u001b[1;31mString form:\u001b[0m Esto es una string\n",
       "\u001b[1;31mLength:\u001b[0m      18\n",
       "\u001b[1;31mDocstring:\u001b[0m  \n",
       "str(object='') -> str\n",
       "str(bytes_or_buffer[, encoding[, errors]]) -> str\n",
       "\n",
       "Create a new string object from the given object. If encoding or\n",
       "errors is specified, then the object must expose a data buffer\n",
       "that will be decoded using the given encoding and error handler.\n",
       "Otherwise, returns the result of object.__str__() (if defined)\n",
       "or repr(object).\n",
       "encoding defaults to sys.getdefaultencoding().\n",
       "errors defaults to 'strict'.\n"
      ]
     },
     "metadata": {},
     "output_type": "display_data"
    }
   ],
   "source": [
    "# Si queremos conocer en mas detalle una variable podemos usar el simbolo ? al final. Esto nos dira el tipo de variable y otros datos asociados\n",
    "var1?"
   ]
  },
  {
   "cell_type": "markdown",
   "metadata": {},
   "source": [
    "Va a haber momentos en que queramos usar funciones especificas que no vienen incluidas en nuestra libreria standard. En esos casos vamos a **instalar e importar** las librerías.<br>\n",
    "Por suerte Colab viene con una gran cantidad de librerias ya incluidas. De cualquier manera, si queres ver esto en mas detalla haz click en el link:<br>\n",
    "[Instalar librerias y Python en Windows](https://data-flair.training/blogs/install-pandas-on-windows/)"
   ]
  },
  {
   "cell_type": "markdown",
   "metadata": {
    "colab_type": "text",
    "id": "G5tycr9hOK_J"
   },
   "source": [
    "### Sequencias \n",
    "\n",
    "Una `string` es un tipo de variable que corresponde a esta categoria, lo mismo sucede con las lista y tuplas. Si bien va a haber acciones comunes en todas las secuencias, va a haber otras que vana  depender del tipo de variable de mi secuencias."
   ]
  },
  {
   "cell_type": "code",
   "execution_count": 15,
   "metadata": {
    "colab": {
     "base_uri": "https://localhost:8080/",
     "height": 34
    },
    "colab_type": "code",
    "id": "Q5Iz2nh-vIzU",
    "outputId": "136e706d-17cb-445e-e087-ef931c7df267"
   },
   "outputs": [
    {
     "data": {
      "text/plain": [
       "'H'"
      ]
     },
     "execution_count": 15,
     "metadata": {},
     "output_type": "execute_result"
    }
   ],
   "source": [
    "# Ejemplo uns string\n",
    "palabra = 'Hospital'"
   ]
  },
  {
   "cell_type": "code",
   "execution_count": 16,
   "metadata": {
    "colab": {
     "base_uri": "https://localhost:8080/",
     "height": 35
    },
    "colab_type": "code",
    "id": "VysqpnTUvYla",
    "outputId": "df2f94b3-1997-4549-d741-8caac4808dc0"
   },
   "outputs": [
    {
     "data": {
      "text/plain": [
       "'HoSSSpital'"
      ]
     },
     "execution_count": 16,
     "metadata": {},
     "output_type": "execute_result"
    }
   ],
   "source": [
    "# Poseeo metodos específicos para actuar sobre ellas\n",
    "palabra.replace('s',\"SSS\")"
   ]
  },
  {
   "cell_type": "code",
   "execution_count": 19,
   "metadata": {
    "colab": {
     "base_uri": "https://localhost:8080/",
     "height": 35
    },
    "colab_type": "code",
    "id": "ZDgOA6g19BMx",
    "outputId": "980c2c85-f762-42b0-f0b2-cd12e24ad9a2"
   },
   "outputs": [
    {
     "data": {
      "text/plain": [
       "'las strings se pueden sumar/concatenar'"
      ]
     },
     "execution_count": 19,
     "metadata": {},
     "output_type": "execute_result"
    }
   ],
   "source": [
    "# Al mismo tiempo puedo realizar operaciones. Estas van a depender nuevamente de mi tipo de variable\n",
    "'las strings se pueden' + ' sumar/concatenar' "
   ]
  },
  {
   "cell_type": "code",
   "execution_count": 20,
   "metadata": {
    "colab": {
     "base_uri": "https://localhost:8080/",
     "height": 163
    },
    "colab_type": "code",
    "id": "8KgFks87-JON",
    "outputId": "727b4bfa-149a-47ed-fddc-b5341ecb65f8"
   },
   "outputs": [
    {
     "ename": "TypeError",
     "evalue": "unsupported operand type(s) for -: 'str' and 'str'",
     "output_type": "error",
     "traceback": [
      "\u001b[1;31m---------------------------------------------------------------------------\u001b[0m",
      "\u001b[1;31mTypeError\u001b[0m                                 Traceback (most recent call last)",
      "\u001b[1;32m<ipython-input-20-00916c4f6f48>\u001b[0m in \u001b[0;36m<module>\u001b[1;34m\u001b[0m\n\u001b[1;32m----> 1\u001b[1;33m \u001b[1;34m'pero no se pueden'\u001b[0m \u001b[1;33m-\u001b[0m \u001b[1;34m' restar'\u001b[0m\u001b[1;33m\u001b[0m\u001b[1;33m\u001b[0m\u001b[0m\n\u001b[0m",
      "\u001b[1;31mTypeError\u001b[0m: unsupported operand type(s) for -: 'str' and 'str'"
     ]
    }
   ],
   "source": [
    "'pero no se pueden' - ' restar'"
   ]
  },
  {
   "cell_type": "markdown",
   "metadata": {},
   "source": [
    "**Indexing**\n",
    "\n",
    "Las sequencias permiten ser indexadas, o en otras palabras, seleccionar N elementos de las mismas. Python nos permite una gran flexibilidad para hacer esto. Veamos como:\n",
    "![Indexing](https://raw.githubusercontent.com/cmosquer/jis-2020/master/images/list_slicing.jpg?token=AKLBVDV4DYHRUFVM37IF57C7OSSP6)"
   ]
  },
  {
   "cell_type": "code",
   "execution_count": 22,
   "metadata": {},
   "outputs": [
    {
     "data": {
      "text/plain": [
       "'H'"
      ]
     },
     "execution_count": 22,
     "metadata": {},
     "output_type": "execute_result"
    }
   ],
   "source": [
    "# Entonces si queremos seleccionar la primer letra harems\n",
    "palabra[0]"
   ]
  },
  {
   "cell_type": "markdown",
   "metadata": {},
   "source": [
    "**Atención** los indices (el numero que corresponde a la posicion de un elemento en una sequencia) en Python empiezan en el 0. <br>\n",
    "Para recordarlo pensemos en un ascensor, el primer elemento en vez de ser `primer piso` es `planta baja`(es decir 0)"
   ]
  },
  {
   "cell_type": "code",
   "execution_count": 24,
   "metadata": {},
   "outputs": [
    {
     "data": {
      "text/plain": [
       "'l'"
      ]
     },
     "execution_count": 24,
     "metadata": {},
     "output_type": "execute_result"
    }
   ],
   "source": [
    "# Tambien podemos indexar hacia atras\n",
    "palabra[-1]"
   ]
  },
  {
   "cell_type": "markdown",
   "metadata": {},
   "source": [
    "**Ejercicio** \n",
    "\n",
    "Seleccionar todas las vocales de la variable `palabra`\n"
   ]
  },
  {
   "cell_type": "code",
   "execution_count": null,
   "metadata": {},
   "outputs": [],
   "source": [
    "palabra."
   ]
  },
  {
   "cell_type": "markdown",
   "metadata": {},
   "source": [
    "**Ejercicio**\n",
    "\n",
    "Imaginemos que queremos contar cuantas comas (,) hay en un corpus de texto.<br>\n",
    "¿Cómo lo harias? Sugerimos que chusmees la [documentación](https://docs.python.org/es/3.8/library/string.html)"
   ]
  },
  {
   "cell_type": "code",
   "execution_count": 47,
   "metadata": {},
   "outputs": [],
   "source": [
    "pal_larga = \"The string module contains a number of useful constants and classes, as well as some deprecated legacy functions that are also available as methods on strings. In addition, Python’s built-in string classes support the sequence type methods described in the Sequence Types — str, unicode, list, tuple, bytearray, buffer, xrange section, and also the string-specific methods described in the String Methods section. To output formatted strings use template strings or the % operator described in the String Formatting Operations section. Also, see the re module for string functions based on regular expressions.\""
   ]
  },
  {
   "cell_type": "code",
   "execution_count": 50,
   "metadata": {},
   "outputs": [
    {
     "data": {
      "text/plain": [
       "10"
      ]
     },
     "execution_count": 50,
     "metadata": {},
     "output_type": "execute_result"
    }
   ],
   "source": [
    "#imprime la cantidad de comas en la variable `pal_larga`\n",
    "pal_larga"
   ]
  },
  {
   "cell_type": "markdown",
   "metadata": {},
   "source": [
    "---"
   ]
  },
  {
   "cell_type": "markdown",
   "metadata": {
    "colab_type": "text",
    "id": "m_Pwd_IAuw0q"
   },
   "source": [
    "### Listas\n",
    "\n",
    "Las listas en Python son una secuencia de valores los cuales pueden ser de cualquier tipo, cadenas, números, floats, contenido mixto o lo que sea. [Documentación](https://docs.python.org/es/3.8/tutorial/datastructures.html)"
   ]
  },
  {
   "cell_type": "code",
   "execution_count": 36,
   "metadata": {
    "colab": {},
    "colab_type": "code",
    "id": "A7j83nW-MQcf"
   },
   "outputs": [],
   "source": [
    "# Listas\n",
    "seq1 = [1,2,3,\"a\", \"b\", \"c\", 1.1, 2.3, 3.5, True, False]"
   ]
  },
  {
   "cell_type": "code",
   "execution_count": 37,
   "metadata": {
    "colab": {
     "base_uri": "https://localhost:8080/",
     "height": 34
    },
    "colab_type": "code",
    "id": "-dV2AoFtOr-O",
    "outputId": "7a95c915-6868-467b-807d-73d760c08fa4"
   },
   "outputs": [
    {
     "data": {
      "text/plain": [
       "[1, 2, 3, 'a', 'b', 'c', 1.1, 2.3, 3.5, True, False]"
      ]
     },
     "execution_count": 37,
     "metadata": {},
     "output_type": "execute_result"
    }
   ],
   "source": [
    "seq1"
   ]
  },
  {
   "cell_type": "code",
   "execution_count": 38,
   "metadata": {
    "colab": {
     "base_uri": "https://localhost:8080/",
     "height": 34
    },
    "colab_type": "code",
    "id": "bHZBi2kpOtNi",
    "outputId": "1e981801-b71d-432f-a050-6490ce544b4e"
   },
   "outputs": [
    {
     "data": {
      "text/plain": [
       "11"
      ]
     },
     "execution_count": 38,
     "metadata": {},
     "output_type": "execute_result"
    }
   ],
   "source": [
    "len(seq1) # Cantidad de elementos en mi sequencia"
   ]
  },
  {
   "cell_type": "code",
   "execution_count": 39,
   "metadata": {
    "colab": {
     "base_uri": "https://localhost:8080/",
     "height": 34
    },
    "colab_type": "code",
    "id": "6CF9c02mO5OW",
    "outputId": "b363178c-ac82-4f0b-8b6a-3eba91cc7d7b"
   },
   "outputs": [
    {
     "data": {
      "text/plain": [
       "(1, 'c', False)"
      ]
     },
     "execution_count": 39,
     "metadata": {},
     "output_type": "execute_result"
    }
   ],
   "source": [
    "seq1[0], seq1[5],  seq1[-1]"
   ]
  },
  {
   "cell_type": "code",
   "execution_count": 40,
   "metadata": {
    "colab": {
     "base_uri": "https://localhost:8080/",
     "height": 163
    },
    "colab_type": "code",
    "id": "1u_VmadtPyIO",
    "outputId": "2e4b08ce-1fbd-4169-d287-78704a1860f2"
   },
   "outputs": [
    {
     "data": {
      "text/plain": [
       "[1, 2, 3]"
      ]
     },
     "execution_count": 40,
     "metadata": {},
     "output_type": "execute_result"
    }
   ],
   "source": [
    "seq1[0:3]"
   ]
  },
  {
   "cell_type": "code",
   "execution_count": 41,
   "metadata": {},
   "outputs": [
    {
     "data": {
      "text/plain": [
       "[1, 3, 'b', 1.1, 3.5]"
      ]
     },
     "execution_count": 41,
     "metadata": {},
     "output_type": "execute_result"
    }
   ],
   "source": [
    "seq1[0:-1:2]"
   ]
  },
  {
   "cell_type": "code",
   "execution_count": 42,
   "metadata": {
    "colab": {
     "base_uri": "https://localhost:8080/",
     "height": 34
    },
    "colab_type": "code",
    "id": "P_B0K5-SsH_L",
    "outputId": "5c4f441a-a693-419f-a8b0-de9243808018"
   },
   "outputs": [
    {
     "data": {
      "text/plain": [
       "[2, 3, 'a', 'b', 'c', 1.1, 2.3, 3.5, True, False]"
      ]
     },
     "execution_count": 42,
     "metadata": {},
     "output_type": "execute_result"
    }
   ],
   "source": [
    "# Otras operaciones\n",
    "seq1.remove(1)  # Borrar un elemento que tenga ese valor. Atencion esto opera sobre la misma variable\n",
    "seq1"
   ]
  },
  {
   "cell_type": "code",
   "execution_count": 43,
   "metadata": {
    "colab": {
     "base_uri": "https://localhost:8080/",
     "height": 34
    },
    "colab_type": "code",
    "id": "6qy16emDsX86",
    "outputId": "7ca9ee76-546f-4466-d15c-6368bf0880fe"
   },
   "outputs": [
    {
     "data": {
      "text/plain": [
       "[1.1, 2.3, 3.5, True, False]"
      ]
     },
     "execution_count": 43,
     "metadata": {},
     "output_type": "execute_result"
    }
   ],
   "source": [
    "del seq1[0]  # Borrar los indices seleccionados \n",
    "seq1"
   ]
  },
  {
   "cell_type": "code",
   "execution_count": 44,
   "metadata": {
    "colab": {
     "base_uri": "https://localhost:8080/",
     "height": 34
    },
    "colab_type": "code",
    "id": "I13HqYLesZQz",
    "outputId": "03835088-a077-4358-eb21-e791d21305f3"
   },
   "outputs": [
    {
     "data": {
      "text/plain": [
       "[1.1, 2.3, 3.5, True, False, 1]"
      ]
     },
     "execution_count": 44,
     "metadata": {},
     "output_type": "execute_result"
    }
   ],
   "source": [
    "seq1.append(1) # agregar un elemento (final de la lista)\n",
    "seq1"
   ]
  },
  {
   "cell_type": "code",
   "execution_count": 45,
   "metadata": {
    "colab": {
     "base_uri": "https://localhost:8080/",
     "height": 34
    },
    "colab_type": "code",
    "id": "gx4IoNg0thZC",
    "outputId": "13b8d62a-101c-470c-d38a-87ffb4d8f236"
   },
   "outputs": [
    {
     "data": {
      "text/plain": [
       "[1.1, 2.3, 3.5, True, False, 1, [1, 1, 1, 1]]"
      ]
     },
     "execution_count": 45,
     "metadata": {},
     "output_type": "execute_result"
    }
   ],
   "source": [
    "seq1.append([1,1,1,1]) # agregar un elemento (final de la lista)\n",
    "seq1"
   ]
  },
  {
   "cell_type": "code",
   "execution_count": 46,
   "metadata": {
    "colab": {
     "base_uri": "https://localhost:8080/",
     "height": 51
    },
    "colab_type": "code",
    "id": "5gyZS4hms_Jv",
    "outputId": "57c0c5da-fc04-418f-dc5c-dc8644ae5f50"
   },
   "outputs": [
    {
     "name": "stdout",
     "output_type": "stream",
     "text": [
      "7\n"
     ]
    }
   ],
   "source": [
    "print(len(seq1))"
   ]
  },
  {
   "cell_type": "markdown",
   "metadata": {},
   "source": [
    "**Ejercicio**\n",
    "\n",
    "Remueve todos las variables de tipo float de nuestra la variable `seq1`"
   ]
  },
  {
   "cell_type": "code",
   "execution_count": 51,
   "metadata": {},
   "outputs": [
    {
     "data": {
      "text/plain": [
       "[1.1, 2.3, 3.5, True, False, 1, [1, 1, 1, 1]]"
      ]
     },
     "execution_count": 51,
     "metadata": {},
     "output_type": "execute_result"
    }
   ],
   "source": [
    "seq1"
   ]
  },
  {
   "cell_type": "markdown",
   "metadata": {},
   "source": [
    "**Ejercicio**\n",
    "\n",
    "Vamos a crear una lista con multiples numeros random. No te preocupes si no entendes que estamos haciendo, ya lo veremos más adelante"
   ]
  },
  {
   "cell_type": "code",
   "execution_count": 69,
   "metadata": {},
   "outputs": [],
   "source": [
    "# No cambies nada de esta celda\n",
    "import random\n",
    "numeros_random = [random.randint(1,10) for x in range(100) ]"
   ]
  },
  {
   "cell_type": "markdown",
   "metadata": {},
   "source": [
    "Lo que vos vas a tener que hacer en decir cuál es la probabilidad o frecuencia relativa del numero `2`. Para eso deberas saber cuantos elementos hay en la lista y cuantas veces aparecio este numero"
   ]
  },
  {
   "cell_type": "code",
   "execution_count": null,
   "metadata": {},
   "outputs": [],
   "source": []
  },
  {
   "cell_type": "markdown",
   "metadata": {},
   "source": [
    "---"
   ]
  },
  {
   "cell_type": "markdown",
   "metadata": {
    "colab_type": "text",
    "id": "rlqM07sGuaH7"
   },
   "source": [
    "### Tuplas"
   ]
  },
  {
   "cell_type": "markdown",
   "metadata": {
    "colab_type": "text",
    "id": "Yg4U_-FKuFJU"
   },
   "source": [
    "Las tuplas se diferencian principalmente de las lista es que son `inmutables` es decir que no soportan nuevas asignaciones (es decir no pueden expandirse una vez que han sido declaradas) ni tampoco aceptan modificaciones (item assignment). [Documentacion](https://docs.python.org/es/3.8/tutorial/datastructures.html?highlight=tuples#tuples-and-sequences)"
   ]
  },
  {
   "cell_type": "code",
   "execution_count": 52,
   "metadata": {
    "colab": {
     "base_uri": "https://localhost:8080/",
     "height": 34
    },
    "colab_type": "code",
    "id": "-yRJYepuPD9_",
    "outputId": "f2fc8828-1356-47e1-c1dd-05e540ceefa2"
   },
   "outputs": [
    {
     "data": {
      "text/plain": [
       "9.99"
      ]
     },
     "execution_count": 52,
     "metadata": {},
     "output_type": "execute_result"
    }
   ],
   "source": [
    "# Tuplas\n",
    "seq2 = (\"a\",1, 9.99) \n",
    "# Prestar atención como python sabe que algo es una tupla o una lista dependiendo si empieza con parentesis o corchetes.\n",
    "\n",
    "seq2[2]"
   ]
  },
  {
   "cell_type": "code",
   "execution_count": 53,
   "metadata": {
    "colab": {
     "base_uri": "https://localhost:8080/",
     "height": 180
    },
    "colab_type": "code",
    "id": "YIUvp16itxnT",
    "outputId": "35a7cee4-8b37-4cd3-8d63-a40774317ced"
   },
   "outputs": [
    {
     "ename": "AttributeError",
     "evalue": "'tuple' object has no attribute 'append'",
     "output_type": "error",
     "traceback": [
      "\u001b[1;31m---------------------------------------------------------------------------\u001b[0m",
      "\u001b[1;31mAttributeError\u001b[0m                            Traceback (most recent call last)",
      "\u001b[1;32m<ipython-input-53-c01d6548005a>\u001b[0m in \u001b[0;36m<module>\u001b[1;34m\u001b[0m\n\u001b[1;32m----> 1\u001b[1;33m \u001b[0mseq2\u001b[0m\u001b[1;33m.\u001b[0m\u001b[0mappend\u001b[0m\u001b[1;33m(\u001b[0m\u001b[1;36m5\u001b[0m\u001b[1;33m)\u001b[0m\u001b[1;33m\u001b[0m\u001b[1;33m\u001b[0m\u001b[0m\n\u001b[0m",
      "\u001b[1;31mAttributeError\u001b[0m: 'tuple' object has no attribute 'append'"
     ]
    }
   ],
   "source": [
    "seq2.append(5)"
   ]
  },
  {
   "cell_type": "code",
   "execution_count": 54,
   "metadata": {
    "colab": {
     "base_uri": "https://localhost:8080/",
     "height": 163
    },
    "colab_type": "code",
    "id": "sb7RAfaEt-_V",
    "outputId": "6314a18d-df3f-4748-8248-6eba5d461344"
   },
   "outputs": [
    {
     "ename": "TypeError",
     "evalue": "'tuple' object does not support item assignment",
     "output_type": "error",
     "traceback": [
      "\u001b[1;31m---------------------------------------------------------------------------\u001b[0m",
      "\u001b[1;31mTypeError\u001b[0m                                 Traceback (most recent call last)",
      "\u001b[1;32m<ipython-input-54-85b282ea3eb9>\u001b[0m in \u001b[0;36m<module>\u001b[1;34m\u001b[0m\n\u001b[1;32m----> 1\u001b[1;33m \u001b[0mseq2\u001b[0m\u001b[1;33m[\u001b[0m\u001b[1;36m0\u001b[0m\u001b[1;33m]\u001b[0m \u001b[1;33m=\u001b[0m \u001b[1;34m'b'\u001b[0m\u001b[1;33m\u001b[0m\u001b[1;33m\u001b[0m\u001b[0m\n\u001b[0m",
      "\u001b[1;31mTypeError\u001b[0m: 'tuple' object does not support item assignment"
     ]
    }
   ],
   "source": [
    "seq2[0] = 'b'"
   ]
  },
  {
   "cell_type": "markdown",
   "metadata": {
    "colab_type": "text",
    "id": "lJxlO3jgugfl"
   },
   "source": [
    "### Mapping (o diccionarios)\n",
    "\n",
    "Los diccionarios consisten en estructuras que contienen pares de una `key` y un `value`. Los elementos **no están ordenados**, con lo cual no se puede acceder por posición ni slicing, sino mediante esta `key`. [Documentación](https://docs.python.org/es/3/tutorial/datastructures.html#dictionaries).\n",
    "\n",
    "A diferencia de las secuencias, que se indexan mediante un rango numérico, los diccionarios se indexan con claves, que pueden ser cualquier tipo inmutable; las strings y números siempre pueden ser claves. Las tuplas pueden usarse como claves si solamente contienen strings, números o tuplas; si una tupla contiene cualquier objeto mutable directa o indirectamente, no puede usarse como clave (recordemos que un ejemplo de tipo de variable mutables son las listas)."
   ]
  },
  {
   "cell_type": "code",
   "execution_count": 75,
   "metadata": {
    "colab": {},
    "colab_type": "code",
    "id": "OyBC4L0_P5oG"
   },
   "outputs": [],
   "source": [
    "# Diccionarios\n",
    "mydict = {'key1' : 'valor1',\n",
    "          'key2' : 55,\n",
    "          'key3' : 98.5,\n",
    "          'key4' : seq1,\n",
    "          68 : \"68\",\n",
    "          ('una_tupla','otro_string') : 5\n",
    "          }"
   ]
  },
  {
   "cell_type": "code",
   "execution_count": 76,
   "metadata": {
    "colab": {
     "base_uri": "https://localhost:8080/",
     "height": 34
    },
    "colab_type": "code",
    "id": "r122xs3MQh_h",
    "outputId": "bd76e2ef-5260-476f-b6fa-26d17e944a28"
   },
   "outputs": [
    {
     "data": {
      "text/plain": [
       "dict_items([('key1', 'valor1'), ('key2', 55), ('key3', 98.5), ('key4', [1.1, 2.3, 3.5, True, False, 1, [1, 1, 1, 1]]), (68, '68'), (('una_tupla', 'otro_string'), 5)])"
      ]
     },
     "execution_count": 76,
     "metadata": {},
     "output_type": "execute_result"
    }
   ],
   "source": [
    "# Podemos observar los items (key,value) en nuestro diccionario\n",
    "mydict.items()"
   ]
  },
  {
   "cell_type": "code",
   "execution_count": 77,
   "metadata": {},
   "outputs": [
    {
     "data": {
      "text/plain": [
       "'valor1'"
      ]
     },
     "execution_count": 77,
     "metadata": {},
     "output_type": "execute_result"
    }
   ],
   "source": [
    "mydict['key1']"
   ]
  },
  {
   "cell_type": "code",
   "execution_count": 78,
   "metadata": {
    "colab": {
     "base_uri": "https://localhost:8080/",
     "height": 34
    },
    "colab_type": "code",
    "id": "FzWQwHBMQmck",
    "outputId": "36d9f71a-4978-40d4-ff41-c9aedb51a770"
   },
   "outputs": [
    {
     "data": {
      "text/plain": [
       "[1.1, 2.3, 3.5, True, False, 1, [1, 1, 1, 1]]"
      ]
     },
     "execution_count": 78,
     "metadata": {},
     "output_type": "execute_result"
    }
   ],
   "source": [
    "mydict['key4']"
   ]
  },
  {
   "cell_type": "code",
   "execution_count": 79,
   "metadata": {
    "colab": {
     "base_uri": "https://localhost:8080/",
     "height": 35
    },
    "colab_type": "code",
    "id": "Vsx4ikx-QtFZ",
    "outputId": "5c9a9e53-5ae6-4438-b03e-4aac56930a6d"
   },
   "outputs": [
    {
     "data": {
      "text/plain": [
       "'68'"
      ]
     },
     "execution_count": 79,
     "metadata": {},
     "output_type": "execute_result"
    }
   ],
   "source": [
    "mydict[68] #No es la practica mas recomendable pero se puede hacer"
   ]
  },
  {
   "cell_type": "code",
   "execution_count": 80,
   "metadata": {},
   "outputs": [
    {
     "data": {
      "text/plain": [
       "5"
      ]
     },
     "execution_count": 80,
     "metadata": {},
     "output_type": "execute_result"
    }
   ],
   "source": [
    "mydict[('una_tupla','otro_string')]"
   ]
  },
  {
   "cell_type": "markdown",
   "metadata": {},
   "source": [
    "**Ejercicio**\n",
    "\n",
    "Vamos a suponer que trabajamos en un hospital (que sorpresa) y decidimos guardar los datos de contacto de nuestros pacientes en una estructura de diccionario. "
   ]
  },
  {
   "cell_type": "code",
   "execution_count": 92,
   "metadata": {},
   "outputs": [],
   "source": [
    "paciente_1 = {\"direccion\" : \"Santa Fe 1987, 10C\",\n",
    "              \"celular\" : 1110101010,\n",
    "            \"telefono_casa\" : 47173890,\n",
    "            \"nombre\" : \"Lionel\",\n",
    "            \"apellido\" : None\n",
    "           }\n",
    "paciente_2 = {\"direccion\" : \"Calle Torero 10, Madrid\",\n",
    "            \"celular\" : 1119781010,\n",
    "            \"apellido\" : 'Riquelme'  \n",
    "           }"
   ]
  },
  {
   "cell_type": "markdown",
   "metadata": {},
   "source": [
    "Debes completar el campo de apellido del `paciente_1` con algun valor para la `key` apellido. ¿Que pasa si ponemos le pedimos a este paciente su apellido antes? y despues de asignarle un valor?"
   ]
  },
  {
   "cell_type": "code",
   "execution_count": 93,
   "metadata": {},
   "outputs": [],
   "source": [
    "# explorar el valor aqui"
   ]
  },
  {
   "cell_type": "code",
   "execution_count": null,
   "metadata": {},
   "outputs": [],
   "source": [
    "# asigna un valor y explora aqui"
   ]
  },
  {
   "cell_type": "markdown",
   "metadata": {},
   "source": [
    "**Ejercicio**\n",
    "\n",
    "Vemos que el paciente 2 tiene menos datos. Imaginemos que quisieramos saber si tiene un nombre registrado, una opción podría ser usar la key `nombre`, pero qué pasaría si hicieramos esto y no tendría este valor?\n",
    "Quizas seria bueno explorar la documentación, quizas un método de nuestra variable nos resulte útil *(pssst... empieza con 'ge...)*."
   ]
  },
  {
   "cell_type": "code",
   "execution_count": 97,
   "metadata": {},
   "outputs": [],
   "source": [
    "#Prueba que pasa si usamos `nombre` como key para el paciente_2\n"
   ]
  },
  {
   "cell_type": "code",
   "execution_count": null,
   "metadata": {},
   "outputs": [],
   "source": [
    "#Utiliza la función que encontraste para que devuelva un nombre en caso que el paciente_2 no lo tenga registrado\n"
   ]
  },
  {
   "cell_type": "markdown",
   "metadata": {},
   "source": [
    "Mucha gente no completa los campos de `telefono_casa`. Podemos ver como el paciente_2 es medio reservado y no lo hizo. Supongamos que tenemos un script que necesita que la variable paciente tenga este campo, (aunque no haga nada con ese valor). Estaría bueno crear esta key asignarle un valor por defecto en caso de que no exista para nuestro paciente. Quizas esto sea un problema común y haya un metodo por defecto que lo haga. *(psst!...empieza con 'setd...')*."
   ]
  },
  {
   "cell_type": "code",
   "execution_count": null,
   "metadata": {},
   "outputs": [],
   "source": []
  },
  {
   "cell_type": "markdown",
   "metadata": {},
   "source": [
    "---"
   ]
  },
  {
   "cell_type": "markdown",
   "metadata": {},
   "source": [
    "### Sets\n",
    "Un objeto de tipo `set` o `conjunto` es una colección no ordenada de distintos objetos hashable. Los casos de uso habituales incluyen comprobar la pertenencia al conjunto de un elemento, eliminar duplicados de una secuencia y realizar operaciones matemáticas como la intersección, la unión, la diferencia o la diferencia simétrica. [Documentación](https://docs.python.org/es/3.8/library/stdtypes.html#set-types-set-frozenset)"
   ]
  },
  {
   "cell_type": "code",
   "execution_count": 103,
   "metadata": {},
   "outputs": [
    {
     "data": {
      "text/plain": [
       "{1, 2, 3}"
      ]
     },
     "execution_count": 103,
     "metadata": {},
     "output_type": "execute_result"
    }
   ],
   "source": [
    "# Un set es definido con {}. Automáticamente Python removerá los duplicados\n",
    "un_set = {1,2,3,1,1} \n",
    "un_set"
   ]
  },
  {
   "cell_type": "code",
   "execution_count": 110,
   "metadata": {},
   "outputs": [
    {
     "data": {
      "text/plain": [
       "{'con', 'lista', 'strings', 'una'}"
      ]
     },
     "execution_count": 110,
     "metadata": {},
     "output_type": "execute_result"
    }
   ],
   "source": [
    "# Tambien podemos transformar objetos de tipo lista o tuple en sets\n",
    "list_set = set(['una', 'lista','con','strings','con', 'strings'])\n",
    "list_set # vemos que el orden no se conserva, sino que son ordenados alfabéticamente"
   ]
  },
  {
   "cell_type": "code",
   "execution_count": 111,
   "metadata": {},
   "outputs": [
    {
     "data": {
      "text/plain": [
       "{'con', 'lista', 'strings', 'una'}"
      ]
     },
     "execution_count": 111,
     "metadata": {},
     "output_type": "execute_result"
    }
   ],
   "source": [
    "tupla_set = set(('una', 'lista','con','strings','con', 'strings'))\n",
    "tupla_set "
   ]
  },
  {
   "cell_type": "markdown",
   "metadata": {},
   "source": [
    "Podemos usar operadores como los que vimos més arriba:"
   ]
  },
  {
   "cell_type": "code",
   "execution_count": 112,
   "metadata": {},
   "outputs": [
    {
     "data": {
      "text/plain": [
       "True"
      ]
     },
     "execution_count": 112,
     "metadata": {},
     "output_type": "execute_result"
    }
   ],
   "source": [
    "pacientes = {\"Oscar\", \"Jorge\", \"Mariana\", 'Estela'}\n",
    "'Jorge' in pacientes"
   ]
  },
  {
   "cell_type": "markdown",
   "metadata": {},
   "source": [
    "**Ejercicio**\n",
    "\n",
    "Muchas veces tenemos grandes cantitades de datos, pero estos se encuentra repetidos, cuando nos interesa saber si dos conjuntos comparten elementos (por ejemplo valores, o etiquetas) podemos usar las funciones propias de los sets. La siguiente imagen resumen rapidamente cuales son estas.\n",
    "\n",
    "![operaciones de conjuntos](https://raw.githubusercontent.com/cmosquer/jis-2020/master/images/conjuntos.jpg?token=AKLBVDRJBERWLI6NQYDXJMK7OYWDW)"
   ]
  },
  {
   "cell_type": "code",
   "execution_count": 115,
   "metadata": {},
   "outputs": [],
   "source": [
    "casos1 = [random.randint(1,10) for x in range(30)] # lista de numeros random entre 1 y 10\n",
    "casos2 = [random.randint(3,7) for x in range(25)] # lista de numeros random entre 3 y 7"
   ]
  },
  {
   "cell_type": "code",
   "execution_count": 116,
   "metadata": {},
   "outputs": [
    {
     "data": {
      "text/plain": [
       "[4, 3, 6, 6, 7, 3, 3, 6, 3, 3, 4, 3, 6, 3, 3, 6, 3, 7, 7, 7, 5, 3, 3, 4, 4]"
      ]
     },
     "execution_count": 116,
     "metadata": {},
     "output_type": "execute_result"
    }
   ],
   "source": [
    "casos2"
   ]
  },
  {
   "cell_type": "markdown",
   "metadata": {},
   "source": [
    "Imaginemos que queremos saber que numeros tenemos **en comun** entre nuestros variables `casos1` y `casos2`. Cómo lo harias?"
   ]
  },
  {
   "cell_type": "code",
   "execution_count": null,
   "metadata": {},
   "outputs": [],
   "source": []
  },
  {
   "cell_type": "markdown",
   "metadata": {
    "colab_type": "text",
    "id": "nYr4PRBbpkV5"
   },
   "source": [
    " # 3.Condicionales y Bucles (o loops)\n",
    "\n"
   ]
  },
  {
   "cell_type": "markdown",
   "metadata": {
    "colab_type": "text",
    "id": "n6tq0xp6p6nw"
   },
   "source": [
    "**Codicional** se refier al flow de decisiones que realizara nuestro script segun determinadas condiciones logicas que le pidamos. \n",
    "\n",
    "El condicional tiene la siguiente sintáxis:\n",
    "```\n",
    "if CONDICIÓN LOGICA:\n",
    "    haz esto \n",
    "elif OTRA CONDICIÓN LOGICA: \n",
    "    haz esto otro \n",
    "else: \n",
    "    sino haz esto \n",
    "```\n",
    "\n",
    "La condicion logica deve devolver un valor verdadero o falso es decir un **BOOLEAN**. <br> \n",
    "La **indentación** del código define qué parte se incluye como condicional.\n",
    "\n",
    "El término \"elif\" viene de \"else if\". La condición sólo se evaluará si la condición del \"if\" no se cumple.\n"
   ]
  },
  {
   "cell_type": "code",
   "execution_count": null,
   "metadata": {
    "colab": {
     "base_uri": "https://localhost:8080/",
     "height": 68
    },
    "colab_type": "code",
    "id": "oMmwtubxNpuD",
    "outputId": "cdaf10d0-e0c5-48c2-ccfe-cab1a003f21a"
   },
   "outputs": [],
   "source": [
    "# Ejemplo de un condicional. \n",
    "# En este caso el condicional se encuentra dentro de una funcion. Veremos esto mas adelante\n",
    "\n",
    "def mayor_que_10():\n",
    "    valor = int(input('Escriba un numero: \\n'))\n",
    "    # Comienza el condicional\n",
    "    if 10 > valor:\n",
    "        print('Menor que 10')\n",
    "    elif 10 == valor:\n",
    "        print('Igual a 10')\n",
    "    else:\n",
    "        print('Mayor que 10')\n",
    "    return\n",
    "\n",
    "mayor_que_10()"
   ]
  },
  {
   "cell_type": "markdown",
   "metadata": {
    "colab_type": "text",
    "id": "E7EzSyFfMr-c"
   },
   "source": [
    "**Bucle** o **loop** se refiere a un tipo de evaluacion condicional en el cual nuestro script continuara realizando una tarea hasta que una condicion logica le indique detenerse (generalmente usamos la palabra reservada **while**) o hasta que se agoten los elementos en los cuales el bucle esta iterando (usamos la palabra reservada **for**).\n",
    "\n"
   ]
  },
  {
   "cell_type": "code",
   "execution_count": null,
   "metadata": {
    "colab": {
     "base_uri": "https://localhost:8080/",
     "height": 119
    },
    "colab_type": "code",
    "id": "2_Td3aUdPYCe",
    "outputId": "5accf54f-e3ef-4fa4-e182-ca8984cce223"
   },
   "outputs": [],
   "source": [
    "contador = 5\n",
    "while contador >= 0:\n",
    "    print(contador)\n",
    "    contador = contador - 1 # substrae una unida luego de que realiza el print"
   ]
  },
  {
   "cell_type": "code",
   "execution_count": null,
   "metadata": {
    "colab": {
     "base_uri": "https://localhost:8080/",
     "height": 119
    },
    "colab_type": "code",
    "id": "sLZAHXJkp8Xt",
    "outputId": "c1d4ba22-5404-4884-91d0-15a6f4f658fd"
   },
   "outputs": [],
   "source": [
    "for valor in [5,4,3,2,1,0]:\n",
    "    print (valor)"
   ]
  },
  {
   "cell_type": "markdown",
   "metadata": {
    "colab_type": "text",
    "id": "8XqjtXkmPVtt"
   },
   "source": [
    "### Control de flujo\n",
    "Contamos con 3 keywords que modifican el orden de ejecución dentro de un bucle\n",
    "\n",
    "**continue**: interrumpe el flujo del bucle y retoma la ejecución en la siguiente iteración <br>\n",
    "**break**: termina el bucle <br>\n",
    "**pass**: no tiene efecto, se usa para evitar error cuando lo exige la sintáxis<br>"
   ]
  },
  {
   "cell_type": "code",
   "execution_count": null,
   "metadata": {
    "colab": {
     "base_uri": "https://localhost:8080/",
     "height": 238
    },
    "colab_type": "code",
    "id": "YsG2zuO-P8RH",
    "outputId": "7ef58478-540d-414e-8410-eb37c4f8e9d0"
   },
   "outputs": [],
   "source": [
    "for valor in range(10,-3,-1):  \n",
    "    print(valor)\n",
    "\n",
    "# range es una palabra reservada. \n",
    "# En este caso crea algo similar a una lista (se llama generador) que va desde el 10 al -3 substrayendo 1 en cada paso"
   ]
  },
  {
   "cell_type": "code",
   "execution_count": null,
   "metadata": {
    "colab": {
     "base_uri": "https://localhost:8080/",
     "height": 204
    },
    "colab_type": "code",
    "id": "N3-YH53OQjmi",
    "outputId": "34adf383-9cf4-4b95-8da0-405fa793a11e"
   },
   "outputs": [],
   "source": [
    "for valor in range(10,-3,-1):\n",
    "    if valor > 0:\n",
    "        pass # no hara nada\n",
    "        print(valor)\n",
    "    else:\n",
    "        print('Despegue!!')\n",
    "        break # detiene el for. Proba que pasa comentando (pone un #) antes del break\n",
    "    continue\n",
    "    print ('Esto no se llegara a imprimir')"
   ]
  },
  {
   "cell_type": "markdown",
   "metadata": {
    "colab_type": "text",
    "id": "koII890DUtQ-"
   },
   "source": [
    "# 4.Funciones\n",
    "\n",
    "Ya vimos funciones como `mas_que_10`, la cual programoamos nosotros,  asi como otras que vienen definidas por defecto como `print` o `len`\n",
    "\n",
    "Una función usualmente tiene como objetivo tomar algun input, aplicar un algoritmo a ese input y devolver un output. Un algoritmo es una serie de pasos o instrucciones definidas con el objetivo de llevar a cabo una tarea."
   ]
  },
  {
   "cell_type": "markdown",
   "metadata": {},
   "source": [
    "Para programar nuestra funcion empezamos utilizando la palabra reservada `def` seguida del nombre de nuestra variable y entre parentesís los `argumentos` o inputs que van ser usados en nuestro algoritmo."
   ]
  },
  {
   "cell_type": "code",
   "execution_count": null,
   "metadata": {},
   "outputs": [],
   "source": [
    "# Estructura básica de una función\n",
    "\n",
    "def una_funcion(una_variable):\n",
    "    otra_variable = una_variable \n",
    "    return otra_variable"
   ]
  },
  {
   "cell_type": "code",
   "execution_count": null,
   "metadata": {},
   "outputs": [],
   "source": [
    "una_funcion(5)"
   ]
  },
  {
   "cell_type": "markdown",
   "metadata": {},
   "source": [
    "### Definiendo una función\n",
    "\n",
    "Definamos una función más interesante y útil"
   ]
  },
  {
   "cell_type": "code",
   "execution_count": 4,
   "metadata": {},
   "outputs": [],
   "source": [
    "def par_inpar(n):\n",
    "    '''\n",
    "    Aqui pondriamos una definición de nuestra variable. \n",
    "    Si hacemos esto podemos ver el doctstring de nuestra función y sabremos\n",
    "    (u otra persona que quiera usarla) que hace nuestra función\n",
    "    \n",
    "    :param n: str\n",
    "    :return: str\n",
    "    '''\n",
    "    n = int(n) # Transformemos al input en un integer\n",
    "    if n % 2 == 0:\n",
    "        return 'Par'\n",
    "    elif n % 2 != 0:\n",
    "        return 'Inpar'"
   ]
  },
  {
   "cell_type": "code",
   "execution_count": 6,
   "metadata": {},
   "outputs": [
    {
     "name": "stdin",
     "output_type": "stream",
     "text": [
      "Ingresa un numero:  5\n"
     ]
    },
    {
     "data": {
      "text/plain": [
       "'Inpar'"
      ]
     },
     "execution_count": 6,
     "metadata": {},
     "output_type": "execute_result"
    }
   ],
   "source": [
    "# Probemos nuestra función!\n",
    "tu_input = input('Ingresa un numero: ')  # `input` es una palabra reservada de Python que me permite escribir un input\n",
    "par_inpar(tu_input)"
   ]
  },
  {
   "cell_type": "code",
   "execution_count": 7,
   "metadata": {},
   "outputs": [
    {
     "name": "stdout",
     "output_type": "stream",
     "text": [
      "Help on function par_inpar in module __main__:\n",
      "\n",
      "par_inpar(n)\n",
      "    Aqui pondriamos una definición de nuestra variable. \n",
      "    Si hacemos esto podemos ver el doctstring de nuestra función y sabremos\n",
      "    (u otra persona que quiera usarla) que hace nuestra función\n",
      "    \n",
      "    :params n: int\n",
      "\n"
     ]
    }
   ],
   "source": [
    "help(par_inpar)"
   ]
  },
  {
   "cell_type": "markdown",
   "metadata": {},
   "source": [
    "### Librerías o módulos"
   ]
  },
  {
   "cell_type": "markdown",
   "metadata": {},
   "source": [
    "Los módulos son archivos de Python que contienen funciones y variables. Podemos importar los módulos y acceder a las funciones y variables con el operador \".\" (punto) o agregándolos a nuestro namespace. Contamos con las siguientes maneras de importar funciones de un módulo:\n",
    "\n",
    "Importar todo el módulo con el mismo nombre que tiene<br>\n",
    "```python\n",
    "import numpy\n",
    "```\n",
    "\n",
    "Importar el módulo con un alias más corto (por comodidad)<br>\n",
    "```python\n",
    "import numpy as np\n",
    "```\n",
    "\n",
    "Importar únicamente un sub-módulo de una libreria<br>\n",
    "```python\n",
    "from numpy import random\n",
    "```\n",
    "\n",
    "Importar directamente todos los nombres de funciones (en general no recomendado dado que podemos llegar a \"pisar\" un nombre de variable)<br>\n",
    "```python\n",
    "from numpy import *\n",
    "```"
   ]
  },
  {
   "cell_type": "markdown",
   "metadata": {},
   "source": [
    "De la misma manera nosotros podemos incorporar funciones de modulos que nosotros mismos hemos programado. Por ejemplo, imaginemos que en nuestro dia a dia usamos usualmente la función `par_inpar` que ya hemos programado. En vez de definirla en cada `script` que escribamos, sería más útil guardarla e importarla cuando la necesitemos. Vamos a ver como seria eso. Para eso usaremos ciertos comandos de Ipython que nos permiten interactuar con la consola. \n",
    "Para hacer esto necesitamos comenzar la linea con el simbolo \n",
    "```python\n",
    "!\n",
    "```\n",
    "\n",
    "Si el lector desea aprender mas acerca de de los shell commands y Ipython puede consultar el siguiente [link](https://jakevdp.github.io/PythonDataScienceHandbook/01.00-ipython-beyond-normal-python.html)"
   ]
  },
  {
   "cell_type": "code",
   "execution_count": 30,
   "metadata": {},
   "outputs": [
    {
     "name": "stdout",
     "output_type": "stream",
     "text": [
      "D:\\Hospital Italiano\\curso_phyton\n"
     ]
    }
   ],
   "source": [
    "!cd\n",
    "!mkdir nuestro_modulo"
   ]
  },
  {
   "cell_type": "markdown",
   "metadata": {},
   "source": [
    "Ipython nos permite tambien invocar `magic methods`. Un `%` corre el comando solamente en esa linea, `%%` corre el comando para toda la celda.<br>\n",
    "En este caso usaremos\n",
    "```python \n",
    "%%bash\n",
    "```\n",
    " para no tener que usar `!` en todas las lineas."
   ]
  },
  {
   "cell_type": "code",
   "execution_count": 42,
   "metadata": {},
   "outputs": [],
   "source": [
    "%%bash \n",
    "cd nuestro_modulo\n",
    "cat >> nuestro_submodulo.py << EOF\n",
    "def par_inpar(n):\n",
    "    '''\n",
    "    Aqui pondriamos una definición de nuestra variable. \n",
    "    Si hacemos esto podemos ver el doctstring de nuestra función y sabremos\n",
    "    (u otra persona que quiera usarla) que hace nuestra función\n",
    "    \n",
    "    :params n: int\n",
    "    :return: str\n",
    "    '''\n",
    "    n = int(n) # Transformemos al input en un integer\n",
    "    if n % 2 == 0:\n",
    "        return 'Par'\n",
    "    elif n % 2 != 0:\n",
    "        return 'Inpar'\n",
    "EOF"
   ]
  },
  {
   "cell_type": "markdown",
   "metadata": {},
   "source": [
    "Si vamos a nuestro file browser podras ver como ahora en la carpeta `nuetro_modulo` podemos ver el Python script llamado `nuestro_submodulo.py`. Si abrimos este archivo veremos que nuestra función `par_inpar` se encuentra adentro."
   ]
  },
  {
   "cell_type": "code",
   "execution_count": 44,
   "metadata": {},
   "outputs": [
    {
     "data": {
      "text/plain": [
       "'Par'"
      ]
     },
     "execution_count": 44,
     "metadata": {},
     "output_type": "execute_result"
    }
   ],
   "source": [
    "from nuestro_modulo.nuestro_submodulo import par_inpar\n",
    "par_inpar(10)"
   ]
  },
  {
   "cell_type": "markdown",
   "metadata": {},
   "source": [
    "Si bien hay mucho más material acerca del uso de funciones en Python, llevaria demasiado tiempo cubrirlo en este curso. \n",
    "Si el lector lo desea, puede continuar por su cuenta explorando el siguiente [enlace](https://realpython.com/python-kwargs-and-args/)\n"
   ]
  },
  {
   "cell_type": "markdown",
   "metadata": {},
   "source": [
    "### Instalar librerias externas"
   ]
  },
  {
   "cell_type": "markdown",
   "metadata": {},
   "source": [
    "Habra ocasiones en las cuales querramos usar librerias creadas por otras personas o organizaciones que no vienen por defecto incluidas en el modulo base de Python. \n",
    "\n",
    "Los entornos (como collab) que tienen instalado python, en general, también tienen instalado un software que se llama python-pip. Este nos permite ejecutar el comando `pip` para descargar librerías desde PyPI.\n",
    "Para mas informacion acerca de qué es y cómo funciona `pip` consultar el siguiente [link](https://ubunlog.com/pip-conceptos-administracion-paquetes/).<br>\n",
    "*Si usted deseara correr esto en su computadora local, debera instalar PIP luego de haber instalado Python.*"
   ]
  },
  {
   "cell_type": "code",
   "execution_count": null,
   "metadata": {},
   "outputs": [],
   "source": [
    "#Ejemplo de pip install\n",
    "!pip install seaborn==0.9.0"
   ]
  },
  {
   "cell_type": "markdown",
   "metadata": {},
   "source": [
    " ### Entornos virtuales"
   ]
  },
  {
   "cell_type": "markdown",
   "metadata": {},
   "source": [
    "Si no deseamos instalar librerias en nuestra computadora de forma local podemos crear un entorno virtual en el cual instalemos todas estas librerias. Un entorno virtual es como una burbuja, en la cual todo lo que instalemos permanecera ahi, pero no podremos acceder desde afuera. Esto es conveniente cuando:\n",
    "- No queremos tener posibles conflictos entre diferentes librerias\n",
    "- Queremos replicar las condiciones de la maquina/server en la cual correremos nuestro proyecto para asegurarnos que corra sin problemas. \n",
    "\n",
    "Cómo crear y usar estos [entornos virtuales](https://docs.python.org/es/3/tutorial/venv.html)"
   ]
  },
  {
   "cell_type": "markdown",
   "metadata": {},
   "source": [
    "# 5.Manipulación de Archivos "
   ]
  },
  {
   "cell_type": "markdown",
   "metadata": {},
   "source": [
    "En el punto anterior realizamos operaciones mediante instrucciones a la consola o `shell`. En este caso,  usamos un lenguaje llamado [Bash](https://en.wikipedia.org/wiki/Bash). Si bien es una herramienta útil, Python nos permite realizar las mismas tareas utilizando sus librerias. \n",
    "\n",
    "A continuación utilizaremos las librerías `os` u `shutil` para realizar este tipo de acciones"
   ]
  },
  {
   "cell_type": "code",
   "execution_count": 10,
   "metadata": {},
   "outputs": [],
   "source": [
    "import os  # Importamos las librerias\n",
    "import shutil"
   ]
  },
  {
   "cell_type": "markdown",
   "metadata": {},
   "source": [
    "Para el curso 4 'Deep Learning con Python' trabajaremos con un dataset de imagenes de radiografías de torax llamado [PADCHEST](https://bimcv.cipf.es/bimcv-projects/padchest/#). Al momento de entrenar estos modelos de computer vision es una práctica habitual dividir las imagenes en diferentes carpetas dependiendo de algún atributo de interes. Ahora bien, qué hacemos cuando tenemos que re-organizar miles de archivos? La solución es automatizar esta tarea. Para eso utilizaremos las dos librerias que importamos recien.\n",
    "\n",
    "La carpeta `data/PADCHEST` tiene dos elementos:\n",
    "    - `png_files` : Una carpeta con todas las imagenes de este subdataset (el dataset original pesa aproximadamente 1 TB)\n",
    "    - `PADCHEST_chest_x_ray_images_labels_160K_01.02.19.csv` : Un csv que contiene metadata acerca de todas las imagenes de la base. \n",
    "    \n",
    "Vamos a dividir estas imagenes según la projección de la radiografia (AP/PA/lateral/oblicua, etc.). Para poder hacer esto usaremos la metadata para  asignarle la projección a cada imagen de nuestro dataset. Crearemos las carpetas correspondientes y moveremos las imagenes de nuestra carpeta `png_files` a su carpeta correspondiente."
   ]
  },
  {
   "cell_type": "code",
   "execution_count": 11,
   "metadata": {},
   "outputs": [],
   "source": [
    "PATH='data/PADCHEST/' # Directorio en el cual se encuentran nuestras imagenes"
   ]
  },
  {
   "cell_type": "code",
   "execution_count": 16,
   "metadata": {},
   "outputs": [
    {
     "data": {
      "text/html": [
       "<div>\n",
       "<style scoped>\n",
       "    .dataframe tbody tr th:only-of-type {\n",
       "        vertical-align: middle;\n",
       "    }\n",
       "\n",
       "    .dataframe tbody tr th {\n",
       "        vertical-align: top;\n",
       "    }\n",
       "\n",
       "    .dataframe thead th {\n",
       "        text-align: right;\n",
       "    }\n",
       "</style>\n",
       "<table border=\"1\" class=\"dataframe\">\n",
       "  <thead>\n",
       "    <tr style=\"text-align: right;\">\n",
       "      <th></th>\n",
       "      <th>Unnamed: 0</th>\n",
       "      <th>ImageID</th>\n",
       "      <th>ImageDir</th>\n",
       "      <th>StudyDate_DICOM</th>\n",
       "      <th>StudyID</th>\n",
       "      <th>PatientID</th>\n",
       "      <th>PatientBirth</th>\n",
       "      <th>PatientSex_DICOM</th>\n",
       "      <th>ViewPosition_DICOM</th>\n",
       "      <th>Projection</th>\n",
       "      <th>...</th>\n",
       "      <th>ExposureTime</th>\n",
       "      <th>RelativeXRayExposure_DICOM</th>\n",
       "      <th>ReportID</th>\n",
       "      <th>Report</th>\n",
       "      <th>MethodLabel</th>\n",
       "      <th>Labels</th>\n",
       "      <th>Localizations</th>\n",
       "      <th>LabelsLocalizationsBySentence</th>\n",
       "      <th>labelCUIS</th>\n",
       "      <th>LocalizationsCUIS</th>\n",
       "    </tr>\n",
       "  </thead>\n",
       "  <tbody>\n",
       "    <tr>\n",
       "      <td>0</td>\n",
       "      <td>0</td>\n",
       "      <td>20536686640136348236148679891455886468_k6ga29.png</td>\n",
       "      <td>0</td>\n",
       "      <td>20140915</td>\n",
       "      <td>20536686640136348236148679891455886468</td>\n",
       "      <td>839860488694292331637988235681460987</td>\n",
       "      <td>1930.0</td>\n",
       "      <td>F</td>\n",
       "      <td>POSTEROANTERIOR</td>\n",
       "      <td>PA</td>\n",
       "      <td>...</td>\n",
       "      <td>10</td>\n",
       "      <td>-1.42</td>\n",
       "      <td>4765777</td>\n",
       "      <td>sin hallazg patolog edad pacient .</td>\n",
       "      <td>Physician</td>\n",
       "      <td>['normal']</td>\n",
       "      <td>[]</td>\n",
       "      <td>[['normal'], ['normal']]</td>\n",
       "      <td>[]</td>\n",
       "      <td>[]</td>\n",
       "    </tr>\n",
       "    <tr>\n",
       "      <td>1</td>\n",
       "      <td>1</td>\n",
       "      <td>135803415504923515076821959678074435083_fzis7d...</td>\n",
       "      <td>0</td>\n",
       "      <td>20150914</td>\n",
       "      <td>135803415504923515076821959678074435083</td>\n",
       "      <td>313572750430997347502932654319389875966</td>\n",
       "      <td>1929.0</td>\n",
       "      <td>M</td>\n",
       "      <td>LATERAL</td>\n",
       "      <td>L</td>\n",
       "      <td>...</td>\n",
       "      <td>25</td>\n",
       "      <td>None</td>\n",
       "      <td>4991845</td>\n",
       "      <td>cambi pulmonar cronic sever . sign fibrosis b...</td>\n",
       "      <td>Physician</td>\n",
       "      <td>['pulmonary fibrosis', 'chronic changes', 'kyp...</td>\n",
       "      <td>['loc basal', 'loc basal bilateral']</td>\n",
       "      <td>[['pulmonary fibrosis', 'loc basal bilateral']...</td>\n",
       "      <td>['C0034069' 'C0742362' 'C2115817' 'C3544344']</td>\n",
       "      <td>['C1282378']</td>\n",
       "    </tr>\n",
       "  </tbody>\n",
       "</table>\n",
       "<p>2 rows × 36 columns</p>\n",
       "</div>"
      ],
      "text/plain": [
       "   Unnamed: 0                                            ImageID  ImageDir  \\\n",
       "0           0  20536686640136348236148679891455886468_k6ga29.png         0   \n",
       "1           1  135803415504923515076821959678074435083_fzis7d...         0   \n",
       "\n",
       "   StudyDate_DICOM                                  StudyID  \\\n",
       "0         20140915   20536686640136348236148679891455886468   \n",
       "1         20150914  135803415504923515076821959678074435083   \n",
       "\n",
       "                                 PatientID  PatientBirth PatientSex_DICOM  \\\n",
       "0     839860488694292331637988235681460987        1930.0                F   \n",
       "1  313572750430997347502932654319389875966        1929.0                M   \n",
       "\n",
       "  ViewPosition_DICOM Projection  ... ExposureTime RelativeXRayExposure_DICOM  \\\n",
       "0    POSTEROANTERIOR         PA  ...           10                      -1.42   \n",
       "1            LATERAL          L  ...           25                       None   \n",
       "\n",
       "  ReportID                                             Report MethodLabel  \\\n",
       "0  4765777                 sin hallazg patolog edad pacient .   Physician   \n",
       "1  4991845   cambi pulmonar cronic sever . sign fibrosis b...   Physician   \n",
       "\n",
       "                                              Labels  \\\n",
       "0                                         ['normal']   \n",
       "1  ['pulmonary fibrosis', 'chronic changes', 'kyp...   \n",
       "\n",
       "                          Localizations  \\\n",
       "0                                    []   \n",
       "1  ['loc basal', 'loc basal bilateral']   \n",
       "\n",
       "                       LabelsLocalizationsBySentence  \\\n",
       "0                           [['normal'], ['normal']]   \n",
       "1  [['pulmonary fibrosis', 'loc basal bilateral']...   \n",
       "\n",
       "                                       labelCUIS LocalizationsCUIS  \n",
       "0                                             []                []  \n",
       "1  ['C0034069' 'C0742362' 'C2115817' 'C3544344']      ['C1282378']  \n",
       "\n",
       "[2 rows x 36 columns]"
      ]
     },
     "execution_count": 16,
     "metadata": {},
     "output_type": "execute_result"
    }
   ],
   "source": [
    "import pandas as pd # Veremos mas Pandas en el proximo curso\n",
    "df=pd.read_csv(PATH + 'PADCHEST_chest_x_ray_images_labels_160K_01.02.19.csv') # Lee el csv con la metadata y lo asigna a una variable\n",
    "df.head(2) # Nos va a permitir ver las N primeras filas (5 por defecto) de nuestro dataset"
   ]
  },
  {
   "cell_type": "code",
   "execution_count": 13,
   "metadata": {},
   "outputs": [
    {
     "data": {
      "text/plain": [
       "Index(['Unnamed: 0', 'ImageID', 'ImageDir', 'StudyDate_DICOM', 'StudyID',\n",
       "       'PatientID', 'PatientBirth', 'PatientSex_DICOM', 'ViewPosition_DICOM',\n",
       "       'Projection', 'MethodProjection', 'Pediatric', 'Modality_DICOM',\n",
       "       'Manufacturer_DICOM', 'PhotometricInterpretation_DICOM',\n",
       "       'PixelRepresentation_DICOM', 'PixelAspectRatio_DICOM',\n",
       "       'SpatialResolution_DICOM', 'BitsStored_DICOM', 'WindowCenter_DICOM',\n",
       "       'WindowWidth_DICOM', 'Rows_DICOM', 'Columns_DICOM',\n",
       "       'XRayTubeCurrent_DICOM', 'Exposure_DICOM', 'ExposureInuAs_DICOM',\n",
       "       'ExposureTime', 'RelativeXRayExposure_DICOM', 'ReportID', 'Report',\n",
       "       'MethodLabel', 'Labels', 'Localizations',\n",
       "       'LabelsLocalizationsBySentence', 'labelCUIS', 'LocalizationsCUIS'],\n",
       "      dtype='object')"
      ]
     },
     "execution_count": 13,
     "metadata": {},
     "output_type": "execute_result"
    }
   ],
   "source": [
    "df.columns #Devuelve las columnas de nuestro dataset"
   ]
  },
  {
   "cell_type": "code",
   "execution_count": 17,
   "metadata": {},
   "outputs": [
    {
     "data": {
      "text/plain": [
       "array(['PA', 'L', 'AP', 'AP_horizontal', 'COSTAL', 'UNK', 'EXCLUDE'],\n",
       "      dtype=object)"
      ]
     },
     "execution_count": 17,
     "metadata": {},
     "output_type": "execute_result"
    }
   ],
   "source": [
    "pd.unique(df.Projection)  \n",
    "# Unique me permite ver las diferentes categorias/valores que tengo en una columna\n",
    "# Una forma alternativa de escribirlo es:  df.Projection.unique()"
   ]
  },
  {
   "cell_type": "code",
   "execution_count": 18,
   "metadata": {},
   "outputs": [
    {
     "name": "stdout",
     "output_type": "stream",
     "text": [
      "Numero de archivos en png_files : 0\n"
     ]
    }
   ],
   "source": [
    "files_png=os.listdir(PATH + 'png_files/') \n",
    "print(f'Numero de archivos en png_files : {len(files_png)}')\n",
    "# Creamos una lista con todos los nombres de los archivos en mi carpeta `png_files`. Si queres ver esa lista descomenta la linea de abajo\n",
    "# files_png"
   ]
  },
  {
   "cell_type": "markdown",
   "metadata": {},
   "source": [
    "Genial, ahora que tenemos los nombres de todos los archivos en nuestra carpeta necesitamos saber cuales son las diferentes projecciones de nuestro dataset para crear las carpetas correspondientes."
   ]
  },
  {
   "cell_type": "code",
   "execution_count": 17,
   "metadata": {},
   "outputs": [
    {
     "name": "stdout",
     "output_type": "stream",
     "text": [
      "Orientación :  PA\n",
      "Orientación :  L\n",
      "Orientación :  AP\n",
      "Orientación :  AP_horizontal\n",
      "Orientación :  COSTAL\n",
      "Orientación :  UNK\n",
      "Orientación :  EXCLUDE\n"
     ]
    }
   ],
   "source": [
    "for orientacion in df.Projection.unique():\n",
    "    print('Orientación : ', orientacion)\n",
    "    try:\n",
    "        os.mkdir(PATH + orientacion)\n",
    "    except OSError: # Si la carpeta ya existe python devolvera un tipo de error (OSerror),\n",
    "        pass        # en ese caso no hara nada (pass)"
   ]
  },
  {
   "cell_type": "markdown",
   "metadata": {},
   "source": [
    "Si chequeas en el file browser veras que las carpetas han sido creadas!<br>\n",
    "Ahora movamos las imagenes a sus respectivas carpetas"
   ]
  },
  {
   "cell_type": "code",
   "execution_count": 18,
   "metadata": {},
   "outputs": [
    {
     "name": "stdout",
     "output_type": "stream",
     "text": [
      "N de archivos de modalidad PA a mover : 1023\n",
      "N de archivos de modalidad L a mover : 519\n",
      "N de archivos de modalidad AP a mover : 28\n",
      "N de archivos de modalidad AP_horizontal a mover : 75\n",
      "N de archivos de modalidad COSTAL a mover : 0\n",
      "Se removio la carpeta : COSTAL\n",
      "N de archivos de modalidad UNK a mover : 0\n",
      "Se removio la carpeta : UNK\n",
      "N de archivos de modalidad EXCLUDE a mover : 0\n",
      "Se removio la carpeta : EXCLUDE\n"
     ]
    }
   ],
   "source": [
    "for orientacion in df.Projection.unique():\n",
    "    files_orientacion = df[df.Projection == orientacion]['ImageID']  # Guardamos los nombres delas imagenes para cada orientacion.\n",
    "    files_mover = set(files_orientacion).intersection(set(files_png)) \n",
    "    # Como ya vimos, los sets nos permiten realizar operaciones.\n",
    "    # En este caso, solo nos interesan los archivos que tenemos en nuestro dataset pequeño\n",
    "    print(f'N de archivos de modalidad {orientacion} a mover : {len(files_mover)}')\n",
    "    for file in files_mover:   # Movemos cada uno de los archivos. Esto tomara un tiempo\n",
    "        shutil.move(PATH + 'png_files' + '/' + file,\n",
    "                    PATH + orientacion + '/' + file)\n",
    "    if len(files_mover) == 0:\n",
    "        os.rmdir(PATH + orientacion)\n",
    "        print('Se removio la carpeta :', orientacion)"
   ]
  },
  {
   "cell_type": "markdown",
   "metadata": {},
   "source": [
    "Veamos cómo se ven nuestros archivos. Para eso usaremos la libreria `matplotlib` la cual usaremos en el siguiente módulo para plotear graficos. Se puede indagar mas acerca de esta libreria [aqui](https://matplotlib.org/tutorials/index.html)"
   ]
  },
  {
   "cell_type": "code",
   "execution_count": 454,
   "metadata": {},
   "outputs": [
    {
     "data": {
      "image/png": "[encoded data removed]",
      "text/plain": [
       "<Figure size 432x288 with 1 Axes>"
      ]
     },
     "metadata": {
      "needs_background": "light"
     },
     "output_type": "display_data"
    }
   ],
   "source": [
    "import matplotlib.image as mpimg  # Importa las librerias\n",
    "import matplotlib.pyplot as plt\n",
    "img=mpimg.imread('data/PADCHEST/AP/156970068968028231680552796656925444046_qmzlxl.png')  # Lee el archivo imagen\n",
    "imgplot = plt.imshow(img, cmap='gray') # \"crea\" una figura y representa la imagen en dos ejes (x,y)\n",
    "plt.show()  # Plotea la figura"
   ]
  },
  {
   "cell_type": "markdown",
   "metadata": {},
   "source": [
    "# 6. Programación Orientada a Objetos (OOP)"
   ]
  },
  {
   "cell_type": "markdown",
   "metadata": {},
   "source": [
    "La Programación Orientada a Objetos (POO u OOP por sus siglas en inglés), es un paradigma de programación. En este paradigma los programas se estructuran organizando el código en entidades llamadas objetos. ¿Por qué nos interesa hacer esto?\n",
    "Estos nos permiten encapsular data, funciones y variables dentro de una misma `clase`, facilitando una interfaz sencilla para operar y permitiendo modificar y reutilizar estas clases. Para una definición mas exhaustiva el lector puede consultar la [documentación](https://docs.python.org/es/3/tutorial/classes.html)."
   ]
  },
  {
   "cell_type": "markdown",
   "metadata": {},
   "source": [
    "### Elementos principales y terminología\n",
    "\n",
    "1. Una `clase` es un prototipo de objeto, cómo una especie de plantilla, sobre la cual se construirán nuestros `objetos`. Esta clase va a englobar los `atributos` que comparten en común todos los objetos de esa clase. \n",
    "\n",
    "2. Una `instancia` es una manera de referirse a un `objeto` en particular que pertenece a una `clase`. \n",
    "\n",
    "3. Los `atributos` o `propiedades` son variables asociadas a los objetos. Los atributos pueden ser de clase (toman el mismo valor para toda la clase) o de instancia (toman un valor diferente para cada instancia). Lo más común de utilizar son los atributos de instancia que reflejan estados de los objetos. Los atributos de clase se utilizan para que todos los objetos compartan por ejemplo, una misma constante, las mismas configuraciones o la misma conexión a una base de datos.Se acceden con un punto.\n",
    "\n",
    "4. Un `método` es una función, similar a las que vimos anteriormente, contenida dentro de un objeto. En otras palabras, ciertos objetos podrán realizar ciertas funciones.Se acceden con un punto.\n",
    "\n",
    "5. Podemos decir que una `clase`, es la lógica abstracta de un objeto, es decir un concepto, mientras que el `objeto`, es su materialización. Cuando creamos un `objeto` estamos instanciando una clase. Entonces, un `objeto` es una instancia única con una estructura definida por su clase. Posee de `atributos` variables de clase, de instancia y `métodos`.\n",
    "\n",
    "6. La herencia es la transferencia de atributos de una clase a otra clase.\n",
    "\n",
    "\n"
   ]
  },
  {
   "cell_type": "markdown",
   "metadata": {},
   "source": [
    "### Creemos nuestra primera clase\n",
    "En este caso, nos interesaria usar lo que ya aprendimos para crear una clase que nos sea útil en algún contexto específico. Supongamos que queremos crear una clase `Paciente` en la cual tendremos diferentes `propiedades` y `metodos`. Para eso empezaremos con algo más sencillo, crearemos una clase general denominada `Persona`."
   ]
  },
  {
   "cell_type": "code",
   "execution_count": 7,
   "metadata": {},
   "outputs": [],
   "source": [
    "class Persona(): # la palabra reservada `class` le dice a python que vamos a definir una clase de nombre Persona\n",
    "    def __init__(self, nombre, apellido, fecha_nacimiento): \n",
    "        self.nombre = nombre\n",
    "        self.apellido = apellido\n",
    "        self.fecha_nacimiento = fecha_nacimiento"
   ]
  },
  {
   "cell_type": "markdown",
   "metadata": {},
   "source": [
    " `__init__` es un metodo reservado (por eso el doble guión bajo). Este método se llama cuando se instancia una clase (es decir se crea un Objeto). Es ahí cuando se inicializan los atributos de la clase con los parametros que nosotros le pasemos. <br>\n",
    " El primer parametro siempre es el termino reservado `self` que indica que los atributos y metodos vas a ser propios de el objeto que estamos intanciando. Veamoslo en funcionamiento:"
   ]
  },
  {
   "cell_type": "code",
   "execution_count": 8,
   "metadata": {},
   "outputs": [
    {
     "data": {
      "text/plain": [
       "'Menendez'"
      ]
     },
     "execution_count": 8,
     "metadata": {},
     "output_type": "execute_result"
    }
   ],
   "source": [
    "persona_1 = Persona('Joaquin','Menendez','25/03/1991')\n",
    "persona_1.apellido # Podemos acceder a los atributos del objeto utilizando `.atributo`"
   ]
  },
  {
   "cell_type": "markdown",
   "metadata": {},
   "source": [
    "### Crear un metodo"
   ]
  },
  {
   "cell_type": "markdown",
   "metadata": {},
   "source": [
    "Vamos a crear una `metodo` que nos permita saber la edad de esta persona al día de la fecha. Para eso usaremos el modulo `datetime`. Para acceder a mas información acerca de los diferentes formatos posibles puede consultarlo [aquí](https://strftime.org/)\n",
    "\n"
   ]
  },
  {
   "cell_type": "code",
   "execution_count": 9,
   "metadata": {},
   "outputs": [],
   "source": [
    "from datetime import datetime # importamos los modulos que vamos a usar\n",
    "from dateutil.relativedelta import relativedelta\n",
    "\n",
    "class Persona(): # Vamos a re-escribir nuestra clase\n",
    "    def __init__(self, nombre, apellido, fecha_nacimiento): \n",
    "        self.nombre = nombre\n",
    "        self.apellido = apellido\n",
    "        self.fecha_nacimiento = fecha_nacimiento\n",
    "        \n",
    "    def edad_hoy(self):\n",
    "        fecha_nacimiento = datetime.strptime(self.fecha_nacimiento,'%d/%m/%Y')\n",
    "        fecha_hoy = datetime.today()\n",
    "        anios = relativedelta(fecha_hoy,fecha_nacimiento)\n",
    "        return  anios.years"
   ]
  },
  {
   "cell_type": "code",
   "execution_count": 10,
   "metadata": {},
   "outputs": [],
   "source": [
    "persona_2 = Persona('Joaquin','Menendez','25/03/1991')"
   ]
  },
  {
   "cell_type": "code",
   "execution_count": 11,
   "metadata": {},
   "outputs": [
    {
     "data": {
      "text/plain": [
       "29"
      ]
     },
     "execution_count": 11,
     "metadata": {},
     "output_type": "execute_result"
    }
   ],
   "source": [
    "persona_2.edad_hoy()"
   ]
  },
  {
   "cell_type": "code",
   "execution_count": 12,
   "metadata": {},
   "outputs": [
    {
     "ename": "AttributeError",
     "evalue": "'Persona' object has no attribute 'edad_hoy'",
     "output_type": "error",
     "traceback": [
      "\u001b[1;31m---------------------------------------------------------------------------\u001b[0m",
      "\u001b[1;31mAttributeError\u001b[0m                            Traceback (most recent call last)",
      "\u001b[1;32m<ipython-input-12-ee854b21c65d>\u001b[0m in \u001b[0;36m<module>\u001b[1;34m\u001b[0m\n\u001b[1;32m----> 1\u001b[1;33m \u001b[0mpersona_1\u001b[0m\u001b[1;33m.\u001b[0m\u001b[0medad_hoy\u001b[0m\u001b[1;33m(\u001b[0m\u001b[1;33m)\u001b[0m\u001b[1;33m\u001b[0m\u001b[1;33m\u001b[0m\u001b[0m\n\u001b[0m",
      "\u001b[1;31mAttributeError\u001b[0m: 'Persona' object has no attribute 'edad_hoy'"
     ]
    }
   ],
   "source": [
    "persona_1.edad_hoy()"
   ]
  },
  {
   "cell_type": "markdown",
   "metadata": {},
   "source": [
    "Vemos como `persona_1` al ser instanciado o construido con una clase vieja no posee el nuevo `método` que creamos."
   ]
  },
  {
   "cell_type": "markdown",
   "metadata": {},
   "source": [
    "### Heredar atributos de otra clase"
   ]
  },
  {
   "cell_type": "markdown",
   "metadata": {},
   "source": [
    "Vamos a usar los atributos de nuestra clase `Persona` para construir una nueva clase denominada `Paciente`. Esta clase contara con todos los atributos y méetodos (en este caso solo `edad_hoy`)."
   ]
  },
  {
   "cell_type": "code",
   "execution_count": 13,
   "metadata": {},
   "outputs": [],
   "source": [
    "class Paciente(Persona):\n",
    "    \n",
    "    PATH = 'data/PADCHEST/'  # En un caso mas real prefeririamos que esto sea una base de datos y no un directorio local\n",
    "    \n",
    "    def __init__(self, PatientID, **kwargs):  # Vamos a pasar los atributos de la clase madre en forma de kwargs (diccionario)\n",
    "        self.PatientID = PatientID \n",
    "        super().__init__(**kwargs) # agrego el resto de los atributos usando el formato __init__ de la clase madre.\n",
    "    \n",
    "    def edad_hoy(self):\n",
    "        return super().edad_hoy() # Uso el metodo/funcion declarado en la clase madre\n",
    "    \n",
    "    def mostrar_imagen(self):  # Este caso es ilustrativo. En la vida real no seria buena idea asignar los valores a un DataFrame local, sino re-leerlo desde una base de datos\n",
    "        imageID = df_small[df_small.PatientID == self.PatientID].ImageID.values\n",
    "        projection = df_small[df_small.PatientID == self.PatientID].Projection.values \n",
    "        image_path = f'{PATH}{projection[0]}/{imageID[0]}'\n",
    "        img = mpimg.imread(image_path)  # Lee el archivo imagen\n",
    "        plt.imshow(img, cmap='gray') # \"crea\" una figura y representa la imagen en dos ejes (x,y)\n",
    "        plt.title(f'ID : {self.PatientID}\\n({self.apellido}, {self.nombre})') \n",
    "        plt.show()  # Plotea la figura\n",
    "        "
   ]
  },
  {
   "cell_type": "markdown",
   "metadata": {},
   "source": [
    "Vamos a seleccionar un sujeto de nuestro dataset y vamos a instanciar un objeto de nuestra nueva clase."
   ]
  },
  {
   "cell_type": "code",
   "execution_count": 14,
   "metadata": {},
   "outputs": [
    {
     "ename": "NameError",
     "evalue": "name 'df_small' is not defined",
     "output_type": "error",
     "traceback": [
      "\u001b[1;31m---------------------------------------------------------------------------\u001b[0m",
      "\u001b[1;31mNameError\u001b[0m                                 Traceback (most recent call last)",
      "\u001b[1;32m<ipython-input-14-602028297404>\u001b[0m in \u001b[0;36m<module>\u001b[1;34m\u001b[0m\n\u001b[1;32m----> 1\u001b[1;33m \u001b[0mdf_small\u001b[0m\u001b[1;33m.\u001b[0m\u001b[0miloc\u001b[0m\u001b[1;33m[\u001b[0m\u001b[1;36m0\u001b[0m\u001b[1;33m]\u001b[0m\u001b[1;33m.\u001b[0m\u001b[0mPatientID\u001b[0m\u001b[1;33m\u001b[0m\u001b[1;33m\u001b[0m\u001b[0m\n\u001b[0m",
      "\u001b[1;31mNameError\u001b[0m: name 'df_small' is not defined"
     ]
    }
   ],
   "source": [
    "df_small.iloc[0].PatientID"
   ]
  },
  {
   "cell_type": "code",
   "execution_count": 15,
   "metadata": {},
   "outputs": [],
   "source": [
    "paciente1 = Paciente( '134763209238182263017987333334800935621', nombre='Joaquin',apellido='Menendez',fecha_nacimiento='25/03/1990')"
   ]
  },
  {
   "cell_type": "code",
   "execution_count": 16,
   "metadata": {},
   "outputs": [],
   "source": [
    "type(paciente1) "
   ]
  },
  {
   "cell_type": "markdown",
   "metadata": {},
   "source": [
    "Vemos que el tipo no es \"prolijo\" como cuando lo usamos con otros objetos por defecto en Python. Esto se debe a que nosotros no definimos (todavía) como queremos que la función `type` represente esto. Esto escapa el enfoque de esta introducción, pero pueden consultarlo [aquí.](https://docs.python.org/3/tutorial/classes.html)"
   ]
  },
  {
   "cell_type": "markdown",
   "metadata": {},
   "source": [
    "Probemos un metodo heredado de nuestra clase `Persona` en nuestra nueva clase"
   ]
  },
  {
   "cell_type": "code",
   "execution_count": 534,
   "metadata": {},
   "outputs": [
    {
     "data": {
      "text/plain": [
       "30"
      ]
     },
     "execution_count": 534,
     "metadata": {},
     "output_type": "execute_result"
    }
   ],
   "source": [
    "paciente1.edad_hoy()"
   ]
  },
  {
   "cell_type": "markdown",
   "metadata": {},
   "source": [
    "Ahora veremos si nuestro nuevo metodo tambien funciona."
   ]
  },
  {
   "cell_type": "code",
   "execution_count": 535,
   "metadata": {},
   "outputs": [
    {
     "data": {
      "image/png": "[encoded data removed]",
      "text/plain": [
       "<Figure size 432x288 with 1 Axes>"
      ]
     },
     "metadata": {
      "needs_background": "light"
     },
     "output_type": "display_data"
    }
   ],
   "source": [
    "paciente1.mostrar_imagen()"
   ]
  }
 ],
 "metadata": {
  "colab": {
   "authorship_tag": "ABX9TyN7NHwadcJqQPYXRH/yt9K/",
   "collapsed_sections": [
    "VZjiJwOeK2Ut",
    "bdMMEBheOBBv"
   ],
   "include_colab_link": true,
   "mount_file_id": "1ictXWIHYhvhYn83Rw_4_N_FcLK71Ut2W",
   "name": "Propuesta_curso.ipynb",
   "provenance": [],
   "toc_visible": true
  },
  "kernelspec": {
   "display_name": "Python 3",
   "language": "python",
   "name": "python3"
  },
  "language_info": {
   "codemirror_mode": {
    "name": "ipython",
    "version": 3
   },
   "file_extension": ".py",
   "mimetype": "text/x-python",
   "name": "python",
   "nbconvert_exporter": "python",
   "pygments_lexer": "ipython3",
   "version": "3.7.4"
  },
  "toc-autonumbering": false,
  "toc-showcode": false,
  "toc-showmarkdowntxt": false
 },
 "nbformat": 4,
 "nbformat_minor": 4
}
